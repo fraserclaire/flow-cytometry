{
 "cells": [
  {
   "cell_type": "code",
   "execution_count": 3,
   "id": "9261e0e5",
   "metadata": {},
   "outputs": [
    {
     "data": {
      "image/png": "[encoded data removed]",
      "text/plain": [
       "<Figure size 640x480 with 1 Axes>"
      ]
     },
     "metadata": {},
     "output_type": "display_data"
    }
   ],
   "source": [
    "#Compare the data across runs, adjusting the means after shifting\n",
    "import pandas as pd\n",
    "import numpy as np\n",
    "import matplotlib.pyplot as plt\n",
    "from scipy.stats import shapiro, anderson, poisson, chisquare, skew, skewtest\n",
    "import statsmodels.api as sm\n",
    "\n",
    "#read in august data\n",
    "df = pd.read_csv('844-206v5_081723 CD4+CD127 counts.csv')\n",
    "df = pd.DataFrame(df)\n",
    "# print(df)\n",
    "# Create a new DataFrame with repeated values based on counts\n",
    "result_array = np.repeat(df['value'], df['count'])\n",
    "result_df = pd.DataFrame({'value': np.repeat(df['value'], df['count'])})\n",
    "# Convert the result to a NumPy array if needed\n",
    "result_array = result_df['value'].to_numpy()\n",
    "# print(result_array)\n",
    "#estimate appropriate bin sizes based on data\n",
    "#auto: Maximum of the ‘sturges’ and ‘fd’ estimators. Provides good all around performance\n",
    "bin_size1 = np.histogram_bin_edges(result_array, bins='auto')\n",
    "# print(\"\\nEstimated Bin Number using Auto Rule:\", len(bin_size1) -1 )\n",
    "\n",
    "#read in second dataset\n",
    "# Specify the path to your CSV file\n",
    "df2 = pd.read_csv('844-206v5_100323 CD4+CD127 counts.csv')\n",
    "df2 = pd.DataFrame(df2)\n",
    "# print(df2)\n",
    "# Create a new DataFrame with repeated values based on counts\n",
    "result_array2 = np.repeat(df2['value'], df2['count'])\n",
    "result_df2 = pd.DataFrame({'value': np.repeat(df2['value'], df2['count'])})\n",
    "# Convert the result to a NumPy array if needed\n",
    "result_array2 = result_df2['value'].to_numpy()\n",
    "# print(result_array2)\n",
    "\n",
    "#plot data, exclude x-values >5500\n",
    "#alpha value in plt.hist line indicates how bold the plotted bars are\n",
    "#alpha = 1, indicates no transparency\n",
    "plt.hist(result_array, bins=bin_size1, edgecolor='black', label='Aug 18', alpha=0.9)\n",
    "plt.hist(result_array2, bins=bin_size1, edgecolor='black', label='Oct 3', alpha=0.5)\n",
    "plt.xlim(-200, 5500)\n",
    "plt.legend()\n",
    "plt.show()"
   ]
  },
  {
   "cell_type": "code",
   "execution_count": null,
   "id": "721b02a6",
   "metadata": {},
   "outputs": [],
   "source": [
    "#read in october data\n",
    "\n",
    "##To account for machine setting differences\n",
    "#1. Calculate the difference in means: Subtract the mean of the collected dataset from the mean of the reference dataset.\n",
    "# Mean difference = Mean (collected dataset) - Mean (reference dataset)\n",
    "\n",
    "#2. Calculate the ratio of standard deviations: Divide the standard deviation of the collected dataset by the standard deviation of the reference dataset.\n",
    "# Standard deviation ratio = Standard deviation (collected dataset) / Standard deviation (reference dataset)\n",
    "\n",
    "#3. Apply the adjustments to your collected data:\n",
    "# Subtract the mean difference from each data point in your collected dataset.\n",
    "# Divide each adjusted data point by the standard deviation ratio."
   ]
  },
  {
   "cell_type": "code",
   "execution_count": null,
   "id": "a7ccc534",
   "metadata": {},
   "outputs": [],
   "source": []
  }
 ],
 "metadata": {
  "kernelspec": {
   "display_name": "Python 3 (ipykernel)",
   "language": "python",
   "name": "python3"
  },
  "language_info": {
   "codemirror_mode": {
    "name": "ipython",
    "version": 3
   },
   "file_extension": ".py",
   "mimetype": "text/x-python",
   "name": "python",
   "nbconvert_exporter": "python",
   "pygments_lexer": "ipython3",
   "version": "3.10.13"
  }
 },
 "nbformat": 4,
 "nbformat_minor": 5
}
