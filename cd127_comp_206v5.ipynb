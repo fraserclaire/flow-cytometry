{
 "cells": [
  {
   "cell_type": "code",
   "execution_count": 1,
   "id": "6d68bf26",
   "metadata": {},
   "outputs": [
    {
     "name": "stdout",
     "output_type": "stream",
     "text": [
      "              value  count\n",
      "0      -1622.426876      0\n",
      "1      -1619.376166      0\n",
      "2      -1616.331208      0\n",
      "3      -1613.291988      0\n",
      "4      -1610.258489      0\n",
      "...             ...    ...\n",
      "4091  260268.646200      0\n",
      "4092  260913.238400      0\n",
      "4093  261559.434600      0\n",
      "4094  262207.238800      0\n",
      "4095  262856.655000      0\n",
      "\n",
      "[4096 rows x 2 columns]\n"
     ]
    }
   ],
   "source": [
    "#Test flow cytometry data output counts-poisson model fit\n",
    "import pandas as pd\n",
    "import numpy as np\n",
    "import matplotlib.pyplot as plt\n",
    "from scipy.stats import shapiro, anderson, poisson, chisquare, skew, skewtest\n",
    "import statsmodels.api as sm\n",
    "\n",
    "# Specify the path to your CSV file\n",
    "df = pd.read_csv('844-206v5_081723 CD4+CD127 counts.csv')\n",
    "\n",
    "df = pd.DataFrame(df)\n",
    "print(df)"
   ]
  },
  {
   "cell_type": "code",
   "execution_count": 2,
   "id": "59a7ccfa",
   "metadata": {},
   "outputs": [
    {
     "name": "stdout",
     "output_type": "stream",
     "text": [
      "[-227.3797226   -11.46533868   61.1824532    89.28378744  104.6391157\n",
      "  109.7627244   117.4534682   120.0185429   152.1534643   153.441897\n",
      "  166.3406332   189.6303172   198.7149377   198.7149377   200.0140865\n",
      "  201.3135794   206.5150443   209.117909    209.117909    209.117909\n",
      "  227.3797226   240.4713902   240.4713902   241.7828587   243.0947565\n",
      "  247.0330544   253.6057318   254.9216195   262.8266481   264.1457963\n",
      "  273.3933551   273.3933551   276.0399472   278.6885518   287.9748548\n",
      "  287.9748548   289.3035642   291.9625838   291.9625838   291.9625838\n",
      "  293.2929      294.6237576   299.9526637   301.2862742   305.2904755\n",
      "  310.6373877   324.0457752   324.0457752   324.0457752   326.7346987\n",
      "  326.7346987   332.1199933   332.1199933   336.1655808   342.921086\n",
      "  342.921086    344.274145    352.4064775   353.7642266   355.1226589\n",
      "  375.5833899   375.5833899   378.3237659   382.4399174   386.5628567\n",
      "  389.3153001   392.0708299   396.2099729   400.3562187   401.7398956\n",
      "  411.4483296   415.6214437   415.6214437   417.0141559   425.3882639\n",
      "  440.8222809   442.2307372   443.6401038   445.0503846   447.873704\n",
      "  452.1156352   456.3660016   460.624908    466.3169169   473.4539263\n",
      "  476.3156761   482.0512593   484.9251575   486.3636474   497.9090873\n",
      "  512.4370501   519.7423069   524.1389761   524.1389761   540.3489314\n",
      "  544.7945782   544.7945782   561.1888942   564.1857973   570.1947937\n",
      "  571.7002344   577.7349033   582.2745876   582.2745876   583.7904471\n",
      "  595.9653729   599.0226273   602.0853683   603.6188085   620.5792268\n",
      "  625.2347727   636.1489069   640.8486644   648.7118038   651.8677544\n",
      "  653.4480424   659.7847356   661.3728206   664.5537219   666.1465489\n",
      "  675.7371186   683.7738662   688.6156854   696.7188144   706.4985902\n",
      "  739.5545422   758.047097    763.1303464   795.7348092   799.2091681\n",
      "  800.94944     813.1896771   816.7058344   837.983517    837.983517\n",
      "  859.5794846   861.3938881   872.3288613   875.9925186   877.8278792\n",
      "  892.5964841   894.4533836   911.2756998   913.1572289   959.0826819\n",
      "  976.6983527   980.6431238   988.5660749  1041.185737   1085.176291\n",
      " 1186.625487   1214.328824   1230.740492   1303.272546   1397.983233\n",
      " 1443.599947   1468.316906   1485.019323   1504.736965   1539.13186\n",
      " 1586.194659   1668.8884     1746.059689   1816.601008   1922.592485\n",
      " 2062.451143   2167.276779   2567.841455   2654.338671   2793.007746\n",
      " 2939.860848   2939.860848   3407.753414   3665.371674   6614.1835    ]\n"
     ]
    }
   ],
   "source": [
    "# Create a new DataFrame with repeated values based on counts\n",
    "result_array = np.repeat(df['value'], df['count'])\n",
    "result_df = pd.DataFrame({'value': np.repeat(df['value'], df['count'])})\n",
    "\n",
    "# Convert the result to a NumPy array if needed\n",
    "result_array = result_df['value'].to_numpy()\n",
    "\n",
    "print(result_array)"
   ]
  },
  {
   "cell_type": "code",
   "execution_count": 3,
   "id": "17cdd0c8",
   "metadata": {},
   "outputs": [
    {
     "name": "stdout",
     "output_type": "stream",
     "text": [
      "              value  count\n",
      "0      -1622.426876      0\n",
      "1      -1619.376166      0\n",
      "2      -1616.331208      0\n",
      "3      -1613.291988      0\n",
      "4      -1610.258489      0\n",
      "...             ...    ...\n",
      "4091  260268.646200      0\n",
      "4092  260913.238400      0\n",
      "4093  261559.434600      0\n",
      "4094  262207.238800      0\n",
      "4095  262856.655000      0\n",
      "\n",
      "[4096 rows x 2 columns]\n",
      "[ -39.50029664   20.38368954   67.56430345   67.56430345  102.0783241\n",
      "  112.325577    135.4259427   144.4280848   172.80031     177.9732786\n",
      "  192.2242664   206.5150443   213.0249301   224.7662695   231.3029052\n",
      "  306.6263428   309.2997958   333.467887    341.568684    344.274145\n",
      "  353.7642266   357.8415862   360.5632859   360.5632859   370.1114542\n",
      "  379.695068    404.5096631   404.5096631   428.186516    430.9882588\n",
      "  432.3904485   435.1974836   462.0464595   476.3156761   477.7480554\n",
      "  486.3636474   486.3636474   487.80317     492.1279746   496.462221\n",
      "  497.9090873   506.6128092   512.4370501   518.2790145   524.1389761\n",
      "  534.4380464   535.9139976   543.3114981   552.2281238   553.7184935\n",
      "  559.6923252   564.1857973   568.6906343   571.7002344   576.2242908\n",
      "  577.7349033   579.2468204   586.8261416   589.8671685   592.9135661\n",
      "  605.1536349   609.7664807   615.9366479   622.1296279   642.4182575\n",
      "  648.7118038   674.1346624   687.0000852   701.6009956   703.231807\n",
      "  703.231807    706.4985902   708.1345734   708.1345734   713.0529578\n",
      "  713.0529578   714.6959166   721.285392    729.5623617   737.884598\n",
      "  754.6678376   756.356514    773.349152    775.0591391   776.7711009\n",
      "  783.6388196   800.94944     802.6917822   811.434776    813.1896771\n",
      "  818.4671038   818.4671038   818.4671038   829.0798102   832.634717\n",
      "  843.3522082   843.3522082   848.7409754   863.2105919   865.029603\n",
      "  874.159515    879.6656041   883.3481754   883.3481754   888.8899448\n",
      "  892.5964841   892.5964841   894.4533836   896.3127127   913.1572289\n",
      "  913.1572289   913.1572289   913.1572289   922.6025855   922.6025855\n",
      "  932.1114891   937.8477316   943.6074041   947.4603063   957.1389411\n",
      "  964.9300753   968.8418933   970.8018931   980.6431238   984.5990093\n",
      "  992.5443865   998.533085   1002.539802   1004.547461   1016.654152\n",
      " 1028.866292   1037.067216   1045.31639    1045.31639    1053.614373\n",
      " 1059.870234   1064.056359   1074.576619   1076.690164   1078.806895\n",
      " 1083.049949   1087.305855   1089.438651   1095.856521   1100.15143\n",
      " 1100.15143    1102.303811   1104.459489   1108.780774   1110.946399\n",
      " 1110.946399   1113.11536    1115.287665   1119.642346   1126.19969\n",
      " 1134.99049    1139.406496   1143.836344   1168.451475   1170.710554\n",
      " 1182.060157   1182.060157   1202.720352   1205.034514   1214.328824\n",
      " 1228.384435   1256.915112   1268.971521   1278.689468   1290.929112\n",
      " 1295.85395    1303.272546   1313.222992   1313.222992   1323.241535\n",
      " 1338.398688   1338.398688   1338.398688   1358.853676   1374.382409\n",
      " 1376.986371   1392.706313   1392.706313   1400.628676   1405.933591\n",
      " 1432.7421     1432.7421     1446.326576   1451.79453    1454.53588\n",
      " 1454.53588    1485.019323   1487.82077    1513.264806   1521.839647\n",
      " 1521.839647   1533.34654    1547.850004   1553.689045   1553.689045\n",
      " 1565.432319   1571.336786   1571.336786   1577.263298   1592.176802\n",
      " 1604.208596   1616.331208   1653.253775   1659.489742   1672.033272\n",
      " 1672.033272   1678.341092   1694.21683    1707.027717   1716.700909\n",
      " 1723.180917   1723.180917   1726.430334   1739.491154   1752.65382\n",
      " 1762.59331    1779.289047   1786.013218   1786.013218   1786.013218\n",
      " 1789.385204   1813.175542   1833.83017    1872.340763   1904.483431\n",
      " 1908.090715   1922.592485   1929.887221   1929.887221   1933.545618\n",
      " 1955.651644   1970.538657   1985.546873   1996.883343   2027.454893\n",
      " 2035.176156   2039.048657   2042.929099   2054.618274   2054.618274\n",
      " 2074.260994   2118.194133   2183.911967   2226.113652   2230.382672\n",
      " 2238.947656   2304.348296   2308.782471   2331.094882   2349.116128\n",
      " 2399.473427   2404.11027    2489.296241   2543.003359   2547.94947\n",
      " 2552.906308   2598.005115   2598.005115   2618.333966   2618.333966\n",
      " 2643.995439   2659.527254   2717.357266   2776.600115   2963.21541\n",
      " 3215.044384   3260.408429   3373.617075   3477.202533   3628.309989\n",
      " 4110.997812   4438.856781   4716.420353   5186.459631   5286.620973  ]\n"
     ]
    }
   ],
   "source": [
    "#read in second dataset\n",
    "# Specify the path to your CSV file\n",
    "df2 = pd.read_csv('844-206v5_100323 CD4+CD127 counts.csv')\n",
    "\n",
    "df2 = pd.DataFrame(df2)\n",
    "print(df2)\n",
    "\n",
    "# Create a new DataFrame with repeated values based on counts\n",
    "result_array2 = np.repeat(df2['value'], df2['count'])\n",
    "result_df2 = pd.DataFrame({'value': np.repeat(df2['value'], df2['count'])})\n",
    "\n",
    "# Convert the result to a NumPy array if needed\n",
    "result_array2 = result_df2['value'].to_numpy()\n",
    "\n",
    "print(result_array2)"
   ]
  },
  {
   "cell_type": "code",
   "execution_count": 14,
   "id": "43779744",
   "metadata": {},
   "outputs": [
    {
     "data": {
      "image/png": "[encoded data removed]",
      "text/plain": [
       "<Figure size 640x480 with 1 Axes>"
      ]
     },
     "metadata": {},
     "output_type": "display_data"
    }
   ],
   "source": [
    "#plot data, exclude x-values >5500\n",
    "#alpha value in plt.hist line indicates how bold the plotted bars are\n",
    "#alpha = 1, indicates no transparency\n",
    "plt.hist(result_array, bins=38, edgecolor='black', label='Aug 18', alpha=0.9)\n",
    "plt.hist(result_array2, bins=38, edgecolor='black', label='Oct 3', alpha=0.5)\n",
    "plt.xlim(-200, 5500)\n",
    "plt.legend()\n",
    "plt.show()"
   ]
  },
  {
   "cell_type": "code",
   "execution_count": 18,
   "id": "b3500e17",
   "metadata": {},
   "outputs": [
    {
     "name": "stdout",
     "output_type": "stream",
     "text": [
      "Statistic: 0.6389063596725464, p-value: 4.553751798232652e-19\n",
      "Data does not look normally distributed (reject H0)\n"
     ]
    }
   ],
   "source": [
    "#test the distribution of dataset1\n",
    "#does it follow a normal distribution?\n",
    "#Shapiro-Wilk Test\n",
    "\n",
    "# Assuming 'data' is your DataFrame or array of values\n",
    "stat, p_value = shapiro(result_array)\n",
    "\n",
    "print(f'Statistic: {stat}, p-value: {p_value}')\n",
    "\n",
    "# Interpret the result\n",
    "alpha = 0.05\n",
    "if p_value > alpha:\n",
    "    print(\"Data looks normally distributed (fail to reject H0)\")\n",
    "else:\n",
    "    print(\"Data does not look normally distributed (reject H0)\")\n"
   ]
  },
  {
   "cell_type": "code",
   "execution_count": 20,
   "id": "b74ec34a",
   "metadata": {},
   "outputs": [
    {
     "name": "stdout",
     "output_type": "stream",
     "text": [
      "Skewness: 3.7696573870524595, p-value: 3.14506915549132e-26\n",
      "Data is significantly skewed (reject H0)\n"
     ]
    }
   ],
   "source": [
    "#Statistical Skewness Test\n",
    "\n",
    "# Calculate skewness\n",
    "skewness = skew(result_array)\n",
    "\n",
    "# Perform skewness test\n",
    "stat, p_value = skewtest(result_array)\n",
    "\n",
    "print(f'Skewness: {skewness}, p-value: {p_value}')\n",
    "\n",
    "# Interpret the result\n",
    "alpha = 0.05\n",
    "if p_value > alpha:\n",
    "    print(\"Data is not significantly skewed (fail to reject H0)\")\n",
    "else:\n",
    "    print(\"Data is significantly skewed (reject H0)\")\n"
   ]
  },
  {
   "cell_type": "code",
   "execution_count": 19,
   "id": "5c57ba7c",
   "metadata": {},
   "outputs": [
    {
     "name": "stdout",
     "output_type": "stream",
     "text": [
      "Statistic: 0.8824796080589294, p-value: 7.270856957957914e-14\n",
      "Data does not look normally distributed (reject H0)\n"
     ]
    }
   ],
   "source": [
    "#test the distribution of data\n",
    "#does it follow a normal distribution?\n",
    "#Shapiro-Wilk Test\n",
    "\n",
    "# Assuming 'data' is your DataFrame or array of values\n",
    "stat, p_value = shapiro(result_array2)\n",
    "\n",
    "print(f'Statistic: {stat}, p-value: {p_value}')\n",
    "\n",
    "# Interpret the result\n",
    "alpha = 0.05\n",
    "if p_value > alpha:\n",
    "    print(\"Data looks normally distributed (fail to reject H0)\")\n",
    "else:\n",
    "    print(\"Data does not look normally distributed (reject H0)\")\n"
   ]
  },
  {
   "cell_type": "code",
   "execution_count": 21,
   "id": "359fc2ac",
   "metadata": {},
   "outputs": [
    {
     "name": "stdout",
     "output_type": "stream",
     "text": [
      "Skewness: 1.652007727701462, p-value: 3.216709128981025e-17\n",
      "Data is significantly skewed (reject H0)\n"
     ]
    }
   ],
   "source": [
    "#Statistical Skewness Test\n",
    "\n",
    "# Calculate skewness\n",
    "skewness = skew(result_array2)\n",
    "\n",
    "# Perform skewness test\n",
    "stat, p_value = skewtest(result_array2)\n",
    "\n",
    "print(f'Skewness: {skewness}, p-value: {p_value}')\n",
    "\n",
    "# Interpret the result\n",
    "alpha = 0.05\n",
    "if p_value > alpha:\n",
    "    print(\"Data is not significantly skewed (fail to reject H0)\")\n",
    "else:\n",
    "    print(\"Data is significantly skewed (reject H0)\")\n"
   ]
  },
  {
   "cell_type": "code",
   "execution_count": 31,
   "id": "a7da1369",
   "metadata": {},
   "outputs": [
    {
     "name": "stdout",
     "output_type": "stream",
     "text": [
      "[-122.5843943   -26.7548089     3.82171512   11.46533868   21.65784512\n",
      "   48.42558217   48.42558217   68.84097983   70.11776318   71.39465562\n",
      "   85.44827565   94.39978786   98.23835268  102.0783241   122.5843943\n",
      "  127.7185004   130.2867917   140.568642    141.8548887   148.2896709\n",
      "  149.5773536   153.441897    157.3087333   162.468194    167.6320009\n",
      "  175.386202    188.3338295   190.9271287   196.1176624   201.3135794\n",
      "  209.117909    210.4198835   214.3280073   218.2394866   219.544071\n",
      "  222.1543927   224.7662695   235.229756    243.0947565   250.975317\n",
      "  254.9216195   256.2379645   282.6652834   287.9748548   289.3035642\n",
      "  290.6328063   290.6328063   291.9625838   291.9625838   297.2871096\n",
      "  305.2904755   314.653662    318.6752492   320.0169734   333.467887\n",
      "  334.8164151   338.8658379   341.568684    344.274145    355.1226589\n",
      "  357.8415862   359.2020878   359.2020878   370.1114542   375.5833899\n",
      "  376.9532077   376.9532077   378.3237659   382.4399174   383.8134717\n",
      "  386.5628567   389.3153001   390.6926775   400.3562187   403.1243758\n",
      "  414.229571    417.0141559   418.4077112   418.4077112   419.8021134\n",
      "  423.9904377   433.7935222   435.1974836   457.784683    464.89246\n",
      "  469.1687638   470.5961617   487.80317     497.9090873   499.3570191\n",
      "  502.2560965   510.9793389   513.895869    522.6722834   546.2788619\n",
      "  547.7643538   547.7643538   550.7389803   558.1970052   565.6861408\n",
      "  585.3076302   591.3896936   597.4933167   602.0853683   609.7664807\n",
      "  623.6814749   623.6814749   623.6814749   628.3457411   633.0232017\n",
      "  634.5853111   661.3728206   664.5537219   675.7371186   690.2329534\n",
      "  706.4985902   713.0529578   726.246183    727.90337     732.885783\n",
      "  756.356514    795.7348092   823.7637548   839.7708615   937.8477316\n",
      "  970.8018931   994.5377802  1032.960758   1047.386287   1057.781846\n",
      " 1161.695739   1175.239523   1193.501046   1198.103251   1395.34245\n",
      " 1476.645426   1501.904731   1539.13186    1872.340763   1940.88457\n",
      " 2094.106951  ]\n",
      "\n",
      "Estimated Bin Number using Auto Rule: 15\n"
     ]
    }
   ],
   "source": [
    "#####################\n",
    "#Now compare the CD8 data\n",
    "#####################\n",
    "\n",
    "# Specify the path to your CSV file\n",
    "df3 = pd.read_csv('844-206v5_081723 CD8+CD127 counts.csv')\n",
    "\n",
    "df3 = pd.DataFrame(df3)\n",
    "#print(df3)\n",
    "\n",
    "# Create a new DataFrame with repeated values based on counts\n",
    "result_array3 = np.repeat(df3['value'], df3['count'])\n",
    "result_df3 = pd.DataFrame({'value': np.repeat(df3['value'], df3['count'])})\n",
    "\n",
    "# Convert the result to a NumPy array if needed\n",
    "result_array3 = result_df3['value'].to_numpy()\n",
    "\n",
    "print(result_array3)\n",
    "\n",
    "#estimate appropriate bin sizes based on data\n",
    "#auto: Maximum of the ‘sturges’ and ‘fd’ estimators. Provides good all around performance\n",
    "bin_size1 = np.histogram_bin_edges(result_array3, bins='auto')\n",
    "print(\"\\nEstimated Bin Number using Auto Rule:\", len(bin_size1) -1 )"
   ]
  },
  {
   "cell_type": "code",
   "execution_count": 32,
   "id": "ee0e1e83",
   "metadata": {},
   "outputs": [
    {
     "name": "stdout",
     "output_type": "stream",
     "text": [
      "[  35.67611245   38.22551138   42.05004876   54.8029653    54.8029653\n",
      "   56.07868629   57.35449352   58.63038904   61.1824532    63.73489531\n",
      "   68.84097983   75.22600845  103.3586374   134.1408281   136.7112791\n",
      "  148.2896709   159.8879301   179.2672673   200.0140865   206.5150443\n",
      "  228.6870471   229.9947737   241.7828587   247.0330544   248.3466977\n",
      "  257.5547697   269.4271895   276.0399472   276.0399472   278.6885518\n",
      "  278.6885518   283.9918922   285.3190217   285.3190217   285.3190217\n",
      "  298.6196099   302.6204443   303.9551771   305.2904755   307.9627818\n",
      "  311.9755607   320.0169734   320.0169734   321.3593004   322.7022333\n",
      "  333.467887    340.2169357   353.7642266   360.5632859   364.6510923\n",
      "  367.3798401   370.1114542   371.4783446   379.695068    389.3153001\n",
      "  392.0708299   394.8294741   396.2099729   397.591261    398.9733417\n",
      "  403.1243758   403.1243758   407.2826728   414.229571    415.6214437\n",
      "  418.4077112   418.4077112   425.3882639   433.7935222   435.1974836\n",
      "  447.873704    449.2867502   449.2867502   450.700726    450.700726\n",
      "  453.5314816   456.3660016   462.0464595   474.8843011   482.0512593\n",
      "  482.0512593   483.4876962   483.4876962   487.80317     489.2437293\n",
      "  490.6853295   493.5716688   495.0164163   496.462221    500.8060208\n",
      "  502.2560965   508.0672227   513.895869    515.3557998   519.7423069\n",
      "  519.7423069   525.6068109   532.9632678   535.9139976   540.3489314\n",
      "  547.7643538   549.2510585   553.7184935   555.2100939   556.7029297\n",
      "  556.7029297   558.1970052   570.1947937   574.7149783   574.7149783\n",
      "  576.2242908   577.7349033   580.760047    582.2745876   597.4933167\n",
      "  602.0853683   603.6188085   605.1536349   608.227466    611.3069012\n",
      "  612.8487326   612.8487326   619.0302664   623.6814749   637.7139943\n",
      "  643.9893627   651.8677544   653.4480424   656.6132702   662.9624809\n",
      "  666.1465489   674.1346624   675.7371186   683.7738662   690.2329534\n",
      "  691.8518947   696.7188144   698.344505    703.231807    706.4985902\n",
      "  708.1345734   711.4117515   727.90337     729.5623617   734.5502244\n",
      "  737.884598    749.6131866   751.2961799   754.6678376   754.6678376\n",
      "  764.8286169   771.6411332   773.349152    775.0591391   775.0591391\n",
      "  775.0591391   787.0846904   788.8106509   790.5386367   792.268654\n",
      "  800.94944     816.7058344   818.4671038   820.2305093   821.9960574\n",
      "  823.7637548   827.3056245   829.0798102   830.8561721   830.8561721\n",
      "  832.634717    841.5604229   846.9424775   855.9575501   863.2105919\n",
      "  894.4533836   903.7744732   911.2756998   915.041262    916.9278067\n",
      "  916.9278067   926.398468    930.2045788   930.2045788   947.4603063\n",
      "  951.323778    951.323778    953.259497    970.8018931   986.5811405\n",
      "  986.5811405   994.5377802   996.5340103  1004.547461   1004.547461\n",
      " 1008.571422   1022.746925   1028.866292   1047.386287   1051.53527\n",
      " 1074.576619   1085.176291   1113.11536    1148.280114   1154.972042\n",
      " 1184.340991   1214.328824   1233.100421   1240.203553   1244.958538\n",
      " 1247.341933   1261.725617   1293.389449   1293.389449   1313.222992\n",
      " 1356.281279   1419.278316   1454.53588    1501.904731   1521.839647\n",
      " 1628.545615   1647.041505   1668.8884     1713.470285   1723.180917\n",
      " 1826.918067   1897.290522   1908.090715   1993.096831   2031.311575\n",
      " 2050.713886   2304.348296   2344.596441   2608.147415   4647.681864  ]\n",
      "\n",
      "Estimated Bin Number using Auto Rule: 29\n"
     ]
    }
   ],
   "source": [
    "#read in second dataset\n",
    "# Specify the path to your CSV file\n",
    "df4 = pd.read_csv('844-206v5_100323 CD8+CD127 counts.csv')\n",
    "\n",
    "df4 = pd.DataFrame(df4)\n",
    "#print(df4)\n",
    "\n",
    "# Create a new DataFrame with repeated values based on counts\n",
    "result_array4 = np.repeat(df4['value'], df4['count'])\n",
    "result_df4 = pd.DataFrame({'value': np.repeat(df4['value'], df4['count'])})\n",
    "\n",
    "# Convert the result to a NumPy array if needed\n",
    "result_array4 = result_df4['value'].to_numpy()\n",
    "\n",
    "print(result_array4)\n",
    "\n",
    "#estimate appropriate bin sizes based on data\n",
    "#auto: Maximum of the ‘sturges’ and ‘fd’ estimators. Provides good all around performance\n",
    "bin_size1 = np.histogram_bin_edges(result_array4, bins='auto')\n",
    "print(\"\\nEstimated Bin Number using Auto Rule:\", len(bin_size1) -1 )"
   ]
  },
  {
   "cell_type": "code",
   "execution_count": 33,
   "id": "0f913e53",
   "metadata": {},
   "outputs": [
    {
     "data": {
      "image/png": "[encoded data removed]",
      "text/plain": [
       "<Figure size 640x480 with 1 Axes>"
      ]
     },
     "metadata": {},
     "output_type": "display_data"
    }
   ],
   "source": [
    "#plot data, exclude x-values >5500\n",
    "#alpha value in plt.hist line indicates how bold the plotted bars are\n",
    "#alpha = 1, indicates no transparency\n",
    "plt.hist(result_array3, bins=15, edgecolor='black', label='Aug 18', alpha=0.9)\n",
    "plt.hist(result_array4, bins=29, edgecolor='black', label='Oct 3', alpha=0.5)\n",
    "plt.xlim(-200, 5500) #adjust based on sample values\n",
    "plt.legend()\n",
    "plt.show()"
   ]
  },
  {
   "cell_type": "code",
   "execution_count": 34,
   "id": "55544a6a",
   "metadata": {},
   "outputs": [
    {
     "name": "stdout",
     "output_type": "stream",
     "text": [
      "Statistic: 0.8526700139045715, p-value: 1.4739362508287002e-10\n",
      "Data does not look normally distributed (reject H0)\n",
      "Skewness: 1.7288467275419404, p-value: 1.7497987886578973e-10\n",
      "Data is significantly skewed (reject H0)\n"
     ]
    }
   ],
   "source": [
    "#test the distribution of dataset3\n",
    "#does it follow a normal distribution?\n",
    "#Shapiro-Wilk Test\n",
    "\n",
    "# Assuming 'data' is your DataFrame or array of values\n",
    "stat, p_value = shapiro(result_array3)\n",
    "\n",
    "print(f'Statistic: {stat}, p-value: {p_value}')\n",
    "\n",
    "# Interpret the result\n",
    "alpha = 0.05\n",
    "if p_value > alpha:\n",
    "    print(\"Data looks normally distributed (fail to reject H0)\")\n",
    "else:\n",
    "    print(\"Data does not look normally distributed (reject H0)\")\n",
    "\n",
    "#########################\n",
    "#Statistical Skewness Test\n",
    "\n",
    "# Calculate skewness\n",
    "skewness = skew(result_array3)\n",
    "\n",
    "# Perform skewness test\n",
    "stat, p_value = skewtest(result_array3)\n",
    "\n",
    "print(f'Skewness: {skewness}, p-value: {p_value}')\n",
    "\n",
    "# Interpret the result\n",
    "alpha = 0.05\n",
    "if p_value > alpha:\n",
    "    print(\"Data is not significantly skewed (fail to reject H0)\")\n",
    "else:\n",
    "    print(\"Data is significantly skewed (reject H0)\")\n"
   ]
  },
  {
   "cell_type": "code",
   "execution_count": 35,
   "id": "79a0da31",
   "metadata": {},
   "outputs": [
    {
     "name": "stdout",
     "output_type": "stream",
     "text": [
      "Statistic: 0.8087692260742188, p-value: 2.761230263957881e-16\n",
      "Data does not look normally distributed (reject H0)\n",
      "Skewness: 2.690684668585448, p-value: 9.476104410223476e-25\n",
      "Data is significantly skewed (reject H0)\n"
     ]
    }
   ],
   "source": [
    "#test the distribution of dataset3\n",
    "#does it follow a normal distribution?\n",
    "#Shapiro-Wilk Test\n",
    "\n",
    "# Assuming 'data' is your DataFrame or array of values\n",
    "stat, p_value = shapiro(result_array4)\n",
    "\n",
    "print(f'Statistic: {stat}, p-value: {p_value}')\n",
    "\n",
    "# Interpret the result\n",
    "alpha = 0.05\n",
    "if p_value > alpha:\n",
    "    print(\"Data looks normally distributed (fail to reject H0)\")\n",
    "else:\n",
    "    print(\"Data does not look normally distributed (reject H0)\")\n",
    "\n",
    "#########################\n",
    "#Statistical Skewness Test\n",
    "\n",
    "# Calculate skewness\n",
    "skewness = skew(result_array4)\n",
    "\n",
    "# Perform skewness test\n",
    "stat, p_value = skewtest(result_array4)\n",
    "\n",
    "print(f'Skewness: {skewness}, p-value: {p_value}')\n",
    "\n",
    "# Interpret the result\n",
    "alpha = 0.05\n",
    "if p_value > alpha:\n",
    "    print(\"Data is not significantly skewed (fail to reject H0)\")\n",
    "else:\n",
    "    print(\"Data is significantly skewed (reject H0)\")\n"
   ]
  },
  {
   "cell_type": "code",
   "execution_count": null,
   "id": "964a1517",
   "metadata": {},
   "outputs": [],
   "source": []
  }
 ],
 "metadata": {
  "kernelspec": {
   "display_name": "Python 3 (ipykernel)",
   "language": "python",
   "name": "python3"
  },
  "language_info": {
   "codemirror_mode": {
    "name": "ipython",
    "version": 3
   },
   "file_extension": ".py",
   "mimetype": "text/x-python",
   "name": "python",
   "nbconvert_exporter": "python",
   "pygments_lexer": "ipython3",
   "version": "3.10.13"
  }
 },
 "nbformat": 4,
 "nbformat_minor": 5
}
