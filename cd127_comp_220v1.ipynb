{
 "cells": [
  {
   "cell_type": "code",
   "execution_count": 13,
   "id": "05653c9a",
   "metadata": {},
   "outputs": [],
   "source": [
    "#Test flow cytometry data output counts-poisson model fit\n",
    "import pandas as pd\n",
    "import numpy as np\n",
    "import matplotlib.pyplot as plt\n",
    "from scipy.stats import shapiro, anderson, poisson, chisquare, skew, skewtest\n",
    "import statsmodels.api as sm\n",
    "\n",
    "# Specify the path to your CSV file\n",
    "df = pd.read_csv('844-220v1_081723 CD4+CD127 counts.csv')\n",
    "\n",
    "df = pd.DataFrame(df)\n",
    "#print(df)"
   ]
  },
  {
   "cell_type": "code",
   "execution_count": 14,
   "id": "124b6194",
   "metadata": {},
   "outputs": [
    {
     "name": "stdout",
     "output_type": "stream",
     "text": [
      "[-108.4815635   -73.94877614  -42.05004876  -38.22551138  -28.029145\n",
      "  -20.38368954   11.46533868   21.65784512   24.20625481   26.7548089\n",
      "   40.77514177   43.32501962   47.15033563   48.42558217   52.25177381\n",
      "   58.63038904   66.28773197   77.7808277    79.05841889   86.72664214\n",
      "   94.39978786   95.67915683   95.67915683  100.7981737   108.4815635\n",
      "  109.7627244   112.325577    125.1510407   125.1510407   127.7185004\n",
      "  134.1408281   141.8548887   141.8548887   144.4280848   145.7150389\n",
      "  147.0022335   149.5773536   149.5773536   150.865284    152.1534643\n",
      "  153.441897    162.468194    162.468194    162.468194    165.0495444\n",
      "  165.0495444   166.3406332   167.6320009   167.6320009   172.80031\n",
      "  181.8561581   184.4462833   184.4462833   187.0376629   189.6303172\n",
      "  192.2242664   194.8195307   196.1176624   198.7149377   198.7149377\n",
      "  198.7149377   202.6134191   203.913608    205.2141489   206.5150443\n",
      "  207.8162968   207.8162968   207.8162968   207.8162968   209.117909\n",
      "  210.4198835   211.722223    216.9352829   216.9352829   216.9352829\n",
      "  216.9352829   218.2394866   218.2394866   219.544071    219.544071\n",
      "  222.1543927   222.1543927   223.4601354   223.4601354   226.0727977\n",
      "  227.3797226   228.6870471   229.9947737   231.3029052   231.3029052\n",
      "  232.6114443   232.6114443   233.9203937   235.229756    236.5395341\n",
      "  236.5395341   236.5395341   237.8497307   239.1603485   241.7828587\n",
      "  241.7828587   243.0947565   244.4070866   248.3466977   248.3466977\n",
      "  248.3466977   250.975317    252.2902985   256.2379645   260.1897717\n",
      "  262.8266481   262.8266481   264.1457963   266.7855271   269.4271895\n",
      "  272.0708064   273.3933551   278.6885518   280.0136161   282.6652834\n",
      "  283.9918922   289.3035642   291.9625838   291.9625838   295.9551598\n",
      "  297.2871096   298.6196099   301.2862742   301.2862742   302.6204443\n",
      "  306.6263428   309.2997958   309.2997958   310.6373877   310.6373877\n",
      "  310.6373877   311.9755607   313.3143177   315.9935966   315.9935966\n",
      "  317.3341247   322.7022333   322.7022333   326.7346987   326.7346987\n",
      "  329.4260963   336.1655808   336.1655808   336.1655808   337.5153874\n",
      "  345.6278642   345.6278642   345.6278642   348.3372962   349.6930156\n",
      "  351.0494083   352.4064775   353.7642266   357.8415862   357.8415862\n",
      "  359.2020878   360.5632859   370.1114542   374.214309    375.5833899\n",
      "  378.3237659   381.0671174   383.8134717   390.6926775   392.0708299\n",
      "  392.0708299   398.9733417   403.1243758   405.8957609   405.8957609\n",
      "  408.6704025   412.8385342   414.229571    414.229571    422.5934729\n",
      "  423.9904377   426.7869555   428.186516    428.186516    429.5869491\n",
      "  430.9882588   433.7935222   436.6023363   438.0080843   440.8222809\n",
      "  442.2307372   452.1156352   454.9482691   456.3660016   456.3660016\n",
      "  457.784683    462.0464595   462.0464595   464.89246     466.3169169\n",
      "  469.1687638   472.0245479   474.8843011   477.7480554   482.0512593\n",
      "  482.0512593   482.0512593   484.9251575   495.0164163   502.2560965\n",
      "  510.9793389   527.075792    530.017211    531.4896575   537.3911259\n",
      "  538.8694357   543.3114981   544.7945782   546.2788619   550.7389803\n",
      "  559.6923252   564.1857973   574.7149783   576.2242908   582.2745876\n",
      "  589.8671685   606.6898524   612.8487326   614.3919799   628.3457411\n",
      "  639.2805784   642.4182575   645.5619854   648.7118038   680.554252\n",
      "  690.2329534   693.4725149   706.4985902   706.4985902   713.0529578\n",
      "  722.9371998   722.9371998   724.5907949   727.90337     729.5623617\n",
      "  742.8999751   761.4340071   820.2305093   834.4154515   839.7708615\n",
      "  839.7708615   850.5417247   865.029603    868.6745751   887.0402903\n",
      "  892.5964841   945.5325379   970.8018931  1002.539802   1022.746925\n",
      " 1032.960758   1035.012484   1055.696562   1076.690164   1089.438651\n",
      " 1106.618473   1117.463324   1126.19969    1172.973234   1175.239523\n",
      " 1179.782975   1200.409934   1209.674116   1230.740492   1252.12058\n",
      " 1256.915112   1305.753814   1308.239303   1318.223704   1320.730474\n",
      " 1333.328932   1335.861628   1390.074811   1493.438967   1536.236532\n",
      " 1539.13186    1589.18293    1601.192172   1601.192172   1619.376166\n",
      " 1622.426876   1665.749532   1665.749532   1675.184164   1675.184164\n",
      " 1742.77223    1799.540971   1806.344833   1823.472253   1826.918067\n",
      " 1833.83017    1833.83017    1868.804887   1872.340763   1911.705243\n",
      " 1948.253193   1993.096831   2023.60609    2086.14401    2090.121373\n",
      " 2106.113188   2134.419285   2209.126857   2234.660665   2243.243669\n",
      " 2247.548726   2326.613447   2335.585843   2362.733035   2390.229424\n",
      " 2408.75704    2484.476715   2552.906308   2603.070748   2638.840733\n",
      " 2754.891265   2809.524297   3151.468722   3260.408429   3333.161967\n",
      " 3421.517007   3672.835179   3929.021665  ]\n",
      "\n",
      "Estimated Bin Number using Auto Rule: 23\n"
     ]
    }
   ],
   "source": [
    "# Create a new DataFrame with repeated values based on counts\n",
    "result_array = np.repeat(df['value'], df['count'])\n",
    "result_df = pd.DataFrame({'value': np.repeat(df['value'], df['count'])})\n",
    "\n",
    "# Convert the result to a NumPy array if needed\n",
    "result_array = result_df['value'].to_numpy()\n",
    "\n",
    "print(result_array)\n",
    "\n",
    "#estimate appropriate bin sizes based on data\n",
    "#auto: Maximum of the ‘sturges’ and ‘fd’ estimators. Provides good all around performance\n",
    "bin_size1 = np.histogram_bin_edges(result_array, bins='auto')\n",
    "print(\"\\nEstimated Bin Number using Auto Rule:\", len(bin_size1) -1 )"
   ]
  },
  {
   "cell_type": "code",
   "execution_count": 16,
   "id": "79c69d9e",
   "metadata": {},
   "outputs": [
    {
     "name": "stdout",
     "output_type": "stream",
     "text": [
      "              value  count\n",
      "0      -1622.426876      0\n",
      "1      -1619.376166      0\n",
      "2      -1616.331208      0\n",
      "3      -1613.291988      0\n",
      "4      -1610.258489      0\n",
      "...             ...    ...\n",
      "4091  260268.646200      0\n",
      "4092  260913.238400      0\n",
      "4093  261559.434600      0\n",
      "4094  262207.238800      0\n",
      "4095  262856.655000      0\n",
      "\n",
      "[4096 rows x 2 columns]\n",
      "\n",
      "Estimated Bin Number using Auto Rule: 38\n"
     ]
    }
   ],
   "source": [
    "#read in second dataset\n",
    "# Specify the path to your CSV file\n",
    "df2 = pd.read_csv('844-220v1_100323 CD4+CD127 counts.csv')\n",
    "\n",
    "df2 = pd.DataFrame(df2)\n",
    "print(df2)\n",
    "\n",
    "# Create a new DataFrame with repeated values based on counts\n",
    "result_array2 = np.repeat(df2['value'], df2['count'])\n",
    "result_df2 = pd.DataFrame({'value': np.repeat(df2['value'], df2['count'])})\n",
    "\n",
    "# Convert the result to a NumPy array if needed\n",
    "result_array2 = result_df2['value'].to_numpy()\n",
    "\n",
    "#print(result_array2)\n",
    "\n",
    "#estimate appropriate bin sizes based on data\n",
    "#auto: Maximum of the ‘sturges’ and ‘fd’ estimators. Provides good all around performance\n",
    "bin_size1 = np.histogram_bin_edges(result_array2, bins='auto')\n",
    "print(\"\\nEstimated Bin Number using Auto Rule:\", len(bin_size1) -1 )"
   ]
  },
  {
   "cell_type": "code",
   "execution_count": 17,
   "id": "eba31f36",
   "metadata": {},
   "outputs": [
    {
     "data": {
      "image/png": "[encoded data removed]",
      "text/plain": [
       "<Figure size 640x480 with 1 Axes>"
      ]
     },
     "metadata": {},
     "output_type": "display_data"
    }
   ],
   "source": [
    "#plot data, exclude x-values >5500\n",
    "#alpha value in plt.hist line indicates how bold the plotted bars are\n",
    "#alpha = 1, indicates no transparency\n",
    "plt.hist(result_array, bins=23, edgecolor='black', label='Aug 18', alpha=0.9)\n",
    "plt.hist(result_array2, bins=38, edgecolor='black', label='Oct 3', alpha=0.5)\n",
    "plt.xlim(-200, 5500)\n",
    "plt.legend()\n",
    "plt.show()"
   ]
  },
  {
   "cell_type": "code",
   "execution_count": 5,
   "id": "c67ea850",
   "metadata": {},
   "outputs": [
    {
     "name": "stdout",
     "output_type": "stream",
     "text": [
      "Statistic: 0.7595208287239075, p-value: 1.0008990425055338e-21\n",
      "Data does not look normally distributed (reject H0)\n"
     ]
    }
   ],
   "source": [
    "#test the distribution of dataset1\n",
    "#does it follow a normal distribution?\n",
    "#Shapiro-Wilk Test\n",
    "\n",
    "# Assuming 'data' is your DataFrame or array of values\n",
    "stat, p_value = shapiro(result_array)\n",
    "\n",
    "print(f'Statistic: {stat}, p-value: {p_value}')\n",
    "\n",
    "# Interpret the result\n",
    "alpha = 0.05\n",
    "if p_value > alpha:\n",
    "    print(\"Data looks normally distributed (fail to reject H0)\")\n",
    "else:\n",
    "    print(\"Data does not look normally distributed (reject H0)\")\n"
   ]
  },
  {
   "cell_type": "code",
   "execution_count": 7,
   "id": "2f07b163",
   "metadata": {},
   "outputs": [
    {
     "name": "stdout",
     "output_type": "stream",
     "text": [
      "Skewness: 1.8679884105266957, p-value: 6.303886576140849e-23\n",
      "Data is significantly skewed (reject H0)\n"
     ]
    }
   ],
   "source": [
    "#Statistical Skewness Test\n",
    "\n",
    "# Calculate skewness\n",
    "skewness = skew(result_array)\n",
    "\n",
    "# Perform skewness test\n",
    "stat, p_value = skewtest(result_array)\n",
    "\n",
    "print(f'Skewness: {skewness}, p-value: {p_value}')\n",
    "\n",
    "# Interpret the result\n",
    "alpha = 0.05\n",
    "if p_value > alpha:\n",
    "    print(\"Data is not significantly skewed (fail to reject H0)\")\n",
    "else:\n",
    "    print(\"Data is significantly skewed (reject H0)\")\n"
   ]
  },
  {
   "cell_type": "code",
   "execution_count": 6,
   "id": "ca390301",
   "metadata": {},
   "outputs": [
    {
     "name": "stdout",
     "output_type": "stream",
     "text": [
      "Statistic: 0.941779375076294, p-value: 1.941752886664539e-16\n",
      "Data does not look normally distributed (reject H0)\n"
     ]
    }
   ],
   "source": [
    "#test the distribution of dataset2\n",
    "#does it follow a normal distribution?\n",
    "#Shapiro-Wilk Test\n",
    "\n",
    "# Assuming 'data' is your DataFrame or array of values\n",
    "stat, p_value = shapiro(result_array2)\n",
    "\n",
    "print(f'Statistic: {stat}, p-value: {p_value}')\n",
    "\n",
    "# Interpret the result\n",
    "alpha = 0.05\n",
    "if p_value > alpha:\n",
    "    print(\"Data looks normally distributed (fail to reject H0)\")\n",
    "else:\n",
    "    print(\"Data does not look normally distributed (reject H0)\")\n"
   ]
  },
  {
   "cell_type": "code",
   "execution_count": 8,
   "id": "6f6b0d8b",
   "metadata": {},
   "outputs": [
    {
     "name": "stdout",
     "output_type": "stream",
     "text": [
      "Skewness: 1.2622286791069606, p-value: 3.115107433740844e-29\n",
      "Data is significantly skewed (reject H0)\n"
     ]
    }
   ],
   "source": [
    "#Statistical Skewness Test\n",
    "\n",
    "# Calculate skewness\n",
    "skewness = skew(result_array2)\n",
    "\n",
    "# Perform skewness test\n",
    "stat, p_value = skewtest(result_array2)\n",
    "\n",
    "print(f'Skewness: {skewness}, p-value: {p_value}')\n",
    "\n",
    "# Interpret the result\n",
    "alpha = 0.05\n",
    "if p_value > alpha:\n",
    "    print(\"Data is not significantly skewed (fail to reject H0)\")\n",
    "else:\n",
    "    print(\"Data is significantly skewed (reject H0)\")\n"
   ]
  },
  {
   "cell_type": "code",
   "execution_count": 18,
   "id": "eb8c5b2a",
   "metadata": {},
   "outputs": [
    {
     "name": "stdout",
     "output_type": "stream",
     "text": [
      "[ -39.50029664  -34.40149478   36.95078398   45.87516104   50.97629923\n",
      "   54.8029653    73.94877614  117.4534682   145.7150389   152.1534643\n",
      "  159.8879301   161.1779274   168.92365     175.386202    185.741815\n",
      "  187.0376629   189.6303172   190.9271287   193.5217328   194.8195307\n",
      "  214.3280073   236.5395341   244.4070866   248.3466977   249.6607843\n",
      "  249.6607843   256.2379645   258.8720378   268.1061154   283.9918922\n",
      "  285.3190217   291.9625838   294.6237576   305.2904755   307.9627818\n",
      "  309.2997958   321.3593004   324.0457752   338.8658379   342.921086\n",
      "  344.274145    349.6930156   367.3798401   381.0671174   385.1877836\n",
      "  386.5628567   387.9386944   425.3882639   445.0503846   453.5314816\n",
      "  530.017211    552.2281238   583.7904471   698.344505    708.1345734\n",
      "  716.3406336   722.9371998   727.90337     818.4671038   877.8278792\n",
      " 1358.853676   2217.602445  ]\n",
      "\n",
      "Estimated Bin Number using Auto Rule: 23\n"
     ]
    }
   ],
   "source": [
    "#####################\n",
    "#Now compare the CD8 data\n",
    "#####################\n",
    "\n",
    "# Specify the path to your CSV file\n",
    "df3 = pd.read_csv('844-220v1_081723 CD8+CD127 counts.csv')\n",
    "\n",
    "df3 = pd.DataFrame(df3)\n",
    "#print(df3)\n",
    "\n",
    "# Create a new DataFrame with repeated values based on counts\n",
    "result_array3 = np.repeat(df3['value'], df3['count'])\n",
    "result_df3 = pd.DataFrame({'value': np.repeat(df3['value'], df3['count'])})\n",
    "\n",
    "# Convert the result to a NumPy array if needed\n",
    "result_array3 = result_df3['value'].to_numpy()\n",
    "\n",
    "print(result_array3)\n",
    "\n",
    "#estimate appropriate bin sizes based on data\n",
    "#auto: Maximum of the ‘sturges’ and ‘fd’ estimators. Provides good all around performance\n",
    "bin_size1 = np.histogram_bin_edges(result_array3, bins='auto')\n",
    "print(\"\\nEstimated Bin Number using Auto Rule:\", len(bin_size1) -1 )"
   ]
  },
  {
   "cell_type": "code",
   "execution_count": 19,
   "id": "7b539acc",
   "metadata": {},
   "outputs": [
    {
     "name": "stdout",
     "output_type": "stream",
     "text": [
      "[   0.           66.28773197   73.94877614   77.7808277    81.61397502\n",
      "  129.002541    139.2826264   143.1413688   148.2896709   154.7305845\n",
      "  165.0495444   176.679591    190.9271287   190.9271287   209.117909\n",
      "  220.8490388   224.7662695   227.3797226   228.6870471   237.8497307\n",
      "  245.7198516   248.3466977   249.6607843   266.7855271   270.7487522\n",
      "  270.7487522   280.0136161   283.9918922   287.9748548   297.2871096\n",
      "  302.6204443   311.9755607   317.3341247   326.7346987   360.5632859\n",
      "  363.2877848   364.6510923   376.9532077   385.1877836   386.5628567\n",
      "  387.9386944   389.3153001   392.0708299   401.7398956   403.1243758\n",
      "  432.3904485   450.700726    450.700726    452.1156352   453.5314816\n",
      "  457.784683    460.624908    466.3169169   469.1687638   472.0245479\n",
      "  473.4539263   476.3156761   487.80317     492.1279746   493.5716688\n",
      "  502.2560965   505.1594865   508.0672227   508.0672227   509.5227312\n",
      "  513.895869    525.6068109   534.4380464   535.9139976   541.8296174\n",
      "  547.7643538   555.2100939   555.2100939   556.7029297   568.6906343\n",
      "  568.6906343   577.7349033   582.2745876   585.3076302   592.9135661\n",
      "  619.0302664   619.0302664   631.4625737   637.7139943   639.2805784\n",
      "  650.2890099   651.8677544   658.1982205   674.1346624   677.3411986\n",
      "  682.1632362   682.1632362   688.6156854   688.6156854   691.8518947\n",
      "  693.4725149   708.1345734   709.772292    711.4117515   724.5907949\n",
      "  726.246183    731.2231641   749.6131866   758.047097    804.4362012\n",
      "  827.3056245   854.1500051   855.9575501   905.6460613   911.2756998\n",
      "  928.300241    964.9300753   974.7301147   990.5538208  1010.587741\n",
      " 1012.606963   1012.606963   1072.466251   1091.574688   1091.574688\n",
      " 1154.972042   1159.45096    1288.472926   1371.782994   1403.278791\n",
      " 1421.961496   1675.184164   2712.042209  ]\n",
      "\n",
      "Estimated Bin Number using Auto Rule: 18\n"
     ]
    }
   ],
   "source": [
    "#read in second dataset\n",
    "# Specify the path to your CSV file\n",
    "df4 = pd.read_csv('844-220v1_100323 CD8+CD127 counts.csv')\n",
    "\n",
    "df4 = pd.DataFrame(df4)\n",
    "#print(df4)\n",
    "\n",
    "# Create a new DataFrame with repeated values based on counts\n",
    "result_array4 = np.repeat(df4['value'], df4['count'])\n",
    "result_df4 = pd.DataFrame({'value': np.repeat(df4['value'], df4['count'])})\n",
    "\n",
    "# Convert the result to a NumPy array if needed\n",
    "result_array4 = result_df4['value'].to_numpy()\n",
    "\n",
    "print(result_array4)\n",
    "\n",
    "#estimate appropriate bin sizes based on data\n",
    "#auto: Maximum of the ‘sturges’ and ‘fd’ estimators. Provides good all around performance\n",
    "bin_size1 = np.histogram_bin_edges(result_array4, bins='auto')\n",
    "print(\"\\nEstimated Bin Number using Auto Rule:\", len(bin_size1) -1 )"
   ]
  },
  {
   "cell_type": "code",
   "execution_count": 20,
   "id": "b97c0c5c",
   "metadata": {},
   "outputs": [
    {
     "data": {
      "image/png": "[encoded data removed]",
      "text/plain": [
       "<Figure size 640x480 with 1 Axes>"
      ]
     },
     "metadata": {},
     "output_type": "display_data"
    }
   ],
   "source": [
    "#plot data, exclude x-values >5500\n",
    "#alpha value in plt.hist line indicates how bold the plotted bars are\n",
    "#alpha = 1, indicates no transparency\n",
    "plt.hist(result_array3, bins=23, edgecolor='black', label='Aug 18', alpha=0.9)\n",
    "plt.hist(result_array4, bins=18, edgecolor='black', label='Oct 3', alpha=0.5)\n",
    "plt.xlim(-200, 5500) #adjust based on sample values\n",
    "plt.legend()\n",
    "plt.show()"
   ]
  },
  {
   "cell_type": "code",
   "execution_count": 21,
   "id": "38eff554",
   "metadata": {},
   "outputs": [
    {
     "name": "stdout",
     "output_type": "stream",
     "text": [
      "Statistic: 0.7131149172782898, p-value: 1.0564290553460864e-09\n",
      "Data does not look normally distributed (reject H0)\n",
      "Skewness: 3.1016051811225047, p-value: 1.5806208002670406e-10\n",
      "Data is significantly skewed (reject H0)\n"
     ]
    }
   ],
   "source": [
    "#test the distribution of dataset3\n",
    "#does it follow a normal distribution?\n",
    "#Shapiro-Wilk Test\n",
    "\n",
    "# Assuming 'data' is your DataFrame or array of values\n",
    "stat, p_value = shapiro(result_array3)\n",
    "\n",
    "print(f'Statistic: {stat}, p-value: {p_value}')\n",
    "\n",
    "# Interpret the result\n",
    "alpha = 0.05\n",
    "if p_value > alpha:\n",
    "    print(\"Data looks normally distributed (fail to reject H0)\")\n",
    "else:\n",
    "    print(\"Data does not look normally distributed (reject H0)\")\n",
    "\n",
    "#########################\n",
    "#Statistical Skewness Test\n",
    "\n",
    "# Calculate skewness\n",
    "skewness = skew(result_array3)\n",
    "\n",
    "# Perform skewness test\n",
    "stat, p_value = skewtest(result_array3)\n",
    "\n",
    "print(f'Skewness: {skewness}, p-value: {p_value}')\n",
    "\n",
    "# Interpret the result\n",
    "alpha = 0.05\n",
    "if p_value > alpha:\n",
    "    print(\"Data is not significantly skewed (fail to reject H0)\")\n",
    "else:\n",
    "    print(\"Data is significantly skewed (reject H0)\")\n"
   ]
  },
  {
   "cell_type": "code",
   "execution_count": 22,
   "id": "2e7f8354",
   "metadata": {},
   "outputs": [
    {
     "name": "stdout",
     "output_type": "stream",
     "text": [
      "Statistic: 0.8647116422653198, p-value: 1.902316304480678e-09\n",
      "Data does not look normally distributed (reject H0)\n",
      "Skewness: 2.022033780564614, p-value: 1.6730548513534985e-11\n",
      "Data is significantly skewed (reject H0)\n"
     ]
    }
   ],
   "source": [
    "#test the distribution of dataset3\n",
    "#does it follow a normal distribution?\n",
    "#Shapiro-Wilk Test\n",
    "\n",
    "# Assuming 'data' is your DataFrame or array of values\n",
    "stat, p_value = shapiro(result_array4)\n",
    "\n",
    "print(f'Statistic: {stat}, p-value: {p_value}')\n",
    "\n",
    "# Interpret the result\n",
    "alpha = 0.05\n",
    "if p_value > alpha:\n",
    "    print(\"Data looks normally distributed (fail to reject H0)\")\n",
    "else:\n",
    "    print(\"Data does not look normally distributed (reject H0)\")\n",
    "\n",
    "#########################\n",
    "#Statistical Skewness Test\n",
    "\n",
    "# Calculate skewness\n",
    "skewness = skew(result_array4)\n",
    "\n",
    "# Perform skewness test\n",
    "stat, p_value = skewtest(result_array4)\n",
    "\n",
    "print(f'Skewness: {skewness}, p-value: {p_value}')\n",
    "\n",
    "# Interpret the result\n",
    "alpha = 0.05\n",
    "if p_value > alpha:\n",
    "    print(\"Data is not significantly skewed (fail to reject H0)\")\n",
    "else:\n",
    "    print(\"Data is significantly skewed (reject H0)\")\n"
   ]
  },
  {
   "cell_type": "code",
   "execution_count": null,
   "id": "b0a71fd6",
   "metadata": {},
   "outputs": [],
   "source": []
  }
 ],
 "metadata": {
  "kernelspec": {
   "display_name": "Python 3 (ipykernel)",
   "language": "python",
   "name": "python3"
  },
  "language_info": {
   "codemirror_mode": {
    "name": "ipython",
    "version": 3
   },
   "file_extension": ".py",
   "mimetype": "text/x-python",
   "name": "python",
   "nbconvert_exporter": "python",
   "pygments_lexer": "ipython3",
   "version": "3.10.13"
  }
 },
 "nbformat": 4,
 "nbformat_minor": 5
}
