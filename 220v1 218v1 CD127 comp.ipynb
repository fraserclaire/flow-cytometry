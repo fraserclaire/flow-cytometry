{
 "cells": [
  {
   "cell_type": "code",
   "execution_count": 1,
   "id": "7c746208",
   "metadata": {},
   "outputs": [
    {
     "name": "stdout",
     "output_type": "stream",
     "text": [
      "[-108.4815635   -73.94877614  -42.05004876  -38.22551138  -28.029145\n",
      "  -20.38368954   11.46533868   21.65784512   24.20625481   26.7548089\n",
      "   40.77514177   43.32501962   47.15033563   48.42558217   52.25177381\n",
      "   58.63038904   66.28773197   77.7808277    79.05841889   86.72664214\n",
      "   94.39978786   95.67915683   95.67915683  100.7981737   108.4815635\n",
      "  109.7627244   112.325577    125.1510407   125.1510407   127.7185004\n",
      "  134.1408281   141.8548887   141.8548887   144.4280848   145.7150389\n",
      "  147.0022335   149.5773536   149.5773536   150.865284    152.1534643\n",
      "  153.441897    162.468194    162.468194    162.468194    165.0495444\n",
      "  165.0495444   166.3406332   167.6320009   167.6320009   172.80031\n",
      "  181.8561581   184.4462833   184.4462833   187.0376629   189.6303172\n",
      "  192.2242664   194.8195307   196.1176624   198.7149377   198.7149377\n",
      "  198.7149377   202.6134191   203.913608    205.2141489   206.5150443\n",
      "  207.8162968   207.8162968   207.8162968   207.8162968   209.117909\n",
      "  210.4198835   211.722223    216.9352829   216.9352829   216.9352829\n",
      "  216.9352829   218.2394866   218.2394866   219.544071    219.544071\n",
      "  222.1543927   222.1543927   223.4601354   223.4601354   226.0727977\n",
      "  227.3797226   228.6870471   229.9947737   231.3029052   231.3029052\n",
      "  232.6114443   232.6114443   233.9203937   235.229756    236.5395341\n",
      "  236.5395341   236.5395341   237.8497307   239.1603485   241.7828587\n",
      "  241.7828587   243.0947565   244.4070866   248.3466977   248.3466977\n",
      "  248.3466977   250.975317    252.2902985   256.2379645   260.1897717\n",
      "  262.8266481   262.8266481   264.1457963   266.7855271   269.4271895\n",
      "  272.0708064   273.3933551   278.6885518   280.0136161   282.6652834\n",
      "  283.9918922   289.3035642   291.9625838   291.9625838   295.9551598\n",
      "  297.2871096   298.6196099   301.2862742   301.2862742   302.6204443\n",
      "  306.6263428   309.2997958   309.2997958   310.6373877   310.6373877\n",
      "  310.6373877   311.9755607   313.3143177   315.9935966   315.9935966\n",
      "  317.3341247   322.7022333   322.7022333   326.7346987   326.7346987\n",
      "  329.4260963   336.1655808   336.1655808   336.1655808   337.5153874\n",
      "  345.6278642   345.6278642   345.6278642   348.3372962   349.6930156\n",
      "  351.0494083   352.4064775   353.7642266   357.8415862   357.8415862\n",
      "  359.2020878   360.5632859   370.1114542   374.214309    375.5833899\n",
      "  378.3237659   381.0671174   383.8134717   390.6926775   392.0708299\n",
      "  392.0708299   398.9733417   403.1243758   405.8957609   405.8957609\n",
      "  408.6704025   412.8385342   414.229571    414.229571    422.5934729\n",
      "  423.9904377   426.7869555   428.186516    428.186516    429.5869491\n",
      "  430.9882588   433.7935222   436.6023363   438.0080843   440.8222809\n",
      "  442.2307372   452.1156352   454.9482691   456.3660016   456.3660016\n",
      "  457.784683    462.0464595   462.0464595   464.89246     466.3169169\n",
      "  469.1687638   472.0245479   474.8843011   477.7480554   482.0512593\n",
      "  482.0512593   482.0512593   484.9251575   495.0164163   502.2560965\n",
      "  510.9793389   527.075792    530.017211    531.4896575   537.3911259\n",
      "  538.8694357   543.3114981   544.7945782   546.2788619   550.7389803\n",
      "  559.6923252   564.1857973   574.7149783   576.2242908   582.2745876\n",
      "  589.8671685   606.6898524   612.8487326   614.3919799   628.3457411\n",
      "  639.2805784   642.4182575   645.5619854   648.7118038   680.554252\n",
      "  690.2329534   693.4725149   706.4985902   706.4985902   713.0529578\n",
      "  722.9371998   722.9371998   724.5907949   727.90337     729.5623617\n",
      "  742.8999751   761.4340071   820.2305093   834.4154515   839.7708615\n",
      "  839.7708615   850.5417247   865.029603    868.6745751   887.0402903\n",
      "  892.5964841   945.5325379   970.8018931  1002.539802   1022.746925\n",
      " 1032.960758   1035.012484   1055.696562   1076.690164   1089.438651\n",
      " 1106.618473   1117.463324   1126.19969    1172.973234   1175.239523\n",
      " 1179.782975   1200.409934   1209.674116   1230.740492   1252.12058\n",
      " 1256.915112   1305.753814   1308.239303   1318.223704   1320.730474\n",
      " 1333.328932   1335.861628   1390.074811   1493.438967   1536.236532\n",
      " 1539.13186    1589.18293    1601.192172   1601.192172   1619.376166\n",
      " 1622.426876   1665.749532   1665.749532   1675.184164   1675.184164\n",
      " 1742.77223    1799.540971   1806.344833   1823.472253   1826.918067\n",
      " 1833.83017    1833.83017    1868.804887   1872.340763   1911.705243\n",
      " 1948.253193   1993.096831   2023.60609    2086.14401    2090.121373\n",
      " 2106.113188   2134.419285   2209.126857   2234.660665   2243.243669\n",
      " 2247.548726   2326.613447   2335.585843   2362.733035   2390.229424\n",
      " 2408.75704    2484.476715   2552.906308   2603.070748   2638.840733\n",
      " 2754.891265   2809.524297   3151.468722   3260.408429   3333.161967\n",
      " 3421.517007   3672.835179   3929.021665  ]\n",
      "\n",
      "Estimated Bin Number using Auto Rule: 23\n"
     ]
    }
   ],
   "source": [
    "#Test flow cytometry data output counts-poisson model fit\n",
    "import pandas as pd\n",
    "import numpy as np\n",
    "import matplotlib.pyplot as plt\n",
    "from scipy.stats import shapiro, anderson, poisson, chisquare, skew, skewtest\n",
    "import statsmodels.api as sm\n",
    "\n",
    "# Specify the path to your CSV file\n",
    "df = pd.read_csv('844-220v1_081723 CD4+CD127 counts.csv')\n",
    "\n",
    "df = pd.DataFrame(df)\n",
    "#print(df)\n",
    "\n",
    "# Create a new DataFrame with repeated values based on counts\n",
    "result_array = np.repeat(df['value'], df['count'])\n",
    "result_df = pd.DataFrame({'value': np.repeat(df['value'], df['count'])})\n",
    "\n",
    "# Convert the result to a NumPy array if needed\n",
    "result_array = result_df['value'].to_numpy()\n",
    "\n",
    "print(result_array)\n",
    "\n",
    "#estimate appropriate bin sizes based on data\n",
    "#auto: Maximum of the ‘sturges’ and ‘fd’ estimators. Provides good all around performance\n",
    "bin_size1 = np.histogram_bin_edges(result_array, bins='auto')\n",
    "print(\"\\nEstimated Bin Number using Auto Rule:\", len(bin_size1) -1 )\n"
   ]
  },
  {
   "cell_type": "code",
   "execution_count": 2,
   "id": "af4b76fe",
   "metadata": {},
   "outputs": [
    {
     "name": "stdout",
     "output_type": "stream",
     "text": [
      "[-3.05779451e+01 -1.40133265e+01 -3.82171512e+00  0.00000000e+00\n",
      "  8.91741774e+00  8.91741774e+00  1.01913708e+01  1.27393233e+01\n",
      "  1.40133265e+01  1.40133265e+01  1.78354672e+01  2.16578451e+01\n",
      "  2.29320329e+01  2.42062548e+01  2.54805128e+01  2.93035231e+01\n",
      "  3.05779451e+01  3.05779451e+01  3.69507840e+01  3.69507840e+01\n",
      "  4.07751418e+01  4.20500488e+01  4.20500488e+01  4.46000564e+01\n",
      "  4.58751610e+01  4.58751610e+01  4.58751610e+01  4.58751610e+01\n",
      "  4.58751610e+01  4.97009027e+01  5.22517738e+01  5.22517738e+01\n",
      "  5.22517738e+01  5.48029653e+01  5.86303890e+01  5.86303890e+01\n",
      "  5.86303890e+01  5.99063749e+01  6.11824532e+01  6.11824532e+01\n",
      "  6.24586260e+01  6.50112633e+01  6.62877320e+01  7.01177632e+01\n",
      "  7.01177632e+01  7.39487761e+01  7.39487761e+01  7.52260084e+01\n",
      "  7.65033583e+01  7.77808277e+01  7.77808277e+01  8.03361340e+01\n",
      "  8.16139750e+01  8.16139750e+01  8.16139750e+01  8.28919442e+01\n",
      "  8.28919442e+01  8.41700437e+01  8.41700437e+01  8.41700437e+01\n",
      "  8.54482756e+01  8.67266421e+01  8.67266421e+01  9.05625706e+01\n",
      "  9.05625706e+01  9.43997879e+01  9.56791568e+01  9.69586777e+01\n",
      "  9.69586777e+01  9.95181839e+01  9.95181839e+01  1.04639116e+02\n",
      "  1.04639116e+02  1.04639116e+02  1.07200577e+02  1.11044061e+02\n",
      "  1.12325577e+02  1.12325577e+02  1.14889152e+02  1.16171217e+02\n",
      "  1.16171217e+02  1.16171217e+02  1.20018543e+02  1.22584394e+02\n",
      "  1.26434668e+02  1.31571255e+02  1.31571255e+02  1.32855933e+02\n",
      "  1.32855933e+02  1.34140828e+02  1.35425943e+02  1.37996839e+02\n",
      "  1.37996839e+02  1.39282626e+02  1.41854889e+02  1.41854889e+02\n",
      "  1.48289671e+02  1.54730584e+02  1.57308733e+02  1.59887930e+02\n",
      "  1.61177927e+02  1.61177927e+02  1.62468194e+02  1.63758732e+02\n",
      "  1.66340633e+02  1.76679591e+02  1.79267267e+02  1.79267267e+02\n",
      "  1.80561560e+02  1.83151065e+02  1.83151065e+02  1.85741815e+02\n",
      "  1.87037663e+02  1.87037663e+02  1.88333830e+02  1.88333830e+02\n",
      "  1.94819531e+02  1.96117662e+02  1.96117662e+02  2.01313579e+02\n",
      "  2.02613419e+02  2.03913608e+02  2.11722223e+02  2.13024930e+02\n",
      "  2.15631457e+02  2.16935283e+02  2.18239487e+02  2.20849039e+02\n",
      "  2.20849039e+02  2.20849039e+02  2.22154393e+02  2.22154393e+02\n",
      "  2.24766269e+02  2.24766269e+02  2.26072798e+02  2.26072798e+02\n",
      "  2.27379723e+02  2.32611444e+02  2.35229756e+02  2.39160348e+02\n",
      "  2.39160348e+02  2.44407087e+02  2.48346698e+02  2.48346698e+02\n",
      "  2.52290299e+02  2.58872038e+02  2.62826648e+02  2.64145796e+02\n",
      "  2.70748752e+02  2.73393355e+02  2.78688552e+02  2.80013616e+02\n",
      "  2.87974855e+02  2.87974855e+02  2.89303564e+02  2.91962584e+02\n",
      "  2.91962584e+02  2.97287110e+02  2.97287110e+02  3.01286274e+02\n",
      "  3.05290476e+02  3.09299796e+02  3.09299796e+02  3.11975561e+02\n",
      "  3.11975561e+02  3.14653662e+02  3.14653662e+02  3.15993597e+02\n",
      "  3.15993597e+02  3.21359300e+02  3.25389929e+02  3.25389929e+02\n",
      "  3.28080087e+02  3.32119993e+02  3.33467887e+02  3.34816415e+02\n",
      "  3.34816415e+02  3.37515387e+02  3.38865838e+02  3.40216936e+02\n",
      "  3.40216936e+02  3.41568684e+02  3.42921086e+02  3.42921086e+02\n",
      "  3.52406477e+02  3.53764227e+02  3.55122659e+02  3.56481778e+02\n",
      "  3.59202088e+02  3.60563286e+02  3.63287785e+02  3.64651092e+02\n",
      "  3.66015110e+02  3.68745287e+02  3.71478345e+02  3.74214309e+02\n",
      "  3.76953208e+02  3.79695068e+02  3.82439917e+02  3.82439917e+02\n",
      "  3.82439917e+02  3.83813472e+02  3.85187784e+02  3.85187784e+02\n",
      "  3.86562857e+02  3.86562857e+02  3.87938694e+02  3.89315300e+02\n",
      "  3.92070830e+02  3.92070830e+02  3.96209973e+02  3.97591261e+02\n",
      "  3.98973342e+02  4.00356219e+02  4.05895761e+02  4.05895761e+02\n",
      "  4.05895761e+02  4.07282673e+02  4.08670403e+02  4.08670403e+02\n",
      "  4.11448330e+02  4.14229571e+02  4.14229571e+02  4.15621444e+02\n",
      "  4.19802113e+02  4.21197366e+02  4.22593473e+02  4.26786955e+02\n",
      "  4.29586949e+02  4.29586949e+02  4.32390448e+02  4.33793522e+02\n",
      "  4.36602336e+02  4.42230737e+02  4.43640104e+02  4.46461583e+02\n",
      "  4.49286750e+02  4.52115635e+02  4.54948269e+02  4.54948269e+02\n",
      "  4.56366002e+02  4.56366002e+02  4.59204317e+02  4.62046460e+02\n",
      "  4.62046460e+02  4.67742350e+02  4.67742350e+02  4.69168764e+02\n",
      "  4.72024548e+02  4.72024548e+02  4.72024548e+02  4.72024548e+02\n",
      "  4.73453926e+02  4.73453926e+02  4.74884301e+02  4.82051259e+02\n",
      "  4.84925158e+02  4.84925158e+02  4.87803170e+02  4.89243729e+02\n",
      "  4.99357019e+02  5.03707250e+02  5.10979339e+02  5.13895869e+02\n",
      "  5.15355800e+02  5.15355800e+02  5.30017211e+02  5.31489658e+02\n",
      "  5.40348931e+02  5.41829617e+02  5.43311498e+02  5.46278862e+02\n",
      "  5.52228124e+02  5.52228124e+02  5.55210094e+02  5.58197005e+02\n",
      "  5.58197005e+02  5.62686717e+02  5.62686717e+02  5.65686141e+02\n",
      "  5.73206961e+02  5.77734903e+02  5.80760047e+02  5.82274588e+02\n",
      "  5.86826142e+02  5.89867169e+02  5.91389694e+02  5.94438791e+02\n",
      "  5.94438791e+02  5.97493317e+02  6.02085368e+02  6.05153635e+02\n",
      "  6.06689852e+02  6.33023202e+02  6.36148907e+02  6.40848664e+02\n",
      "  6.48711804e+02  6.58198221e+02  6.66146549e+02  6.66146549e+02\n",
      "  6.67740967e+02  6.70934600e+02  6.70934600e+02  6.74134662e+02\n",
      "  6.77341199e+02  6.80554252e+02  6.82163236e+02  6.83773866e+02\n",
      "  6.88615685e+02  6.91851895e+02  7.01600996e+02  7.22937200e+02\n",
      "  7.47932075e+02  7.56356514e+02  7.59739593e+02  7.71641133e+02\n",
      "  7.73349152e+02  7.73349152e+02  7.78485043e+02  8.11434776e+02\n",
      "  8.57767374e+02  8.70500550e+02  8.88889945e+02  9.05646061e+02\n",
      "  9.72764631e+02  1.03091203e+03  1.03296076e+03  1.04531639e+03\n",
      "  1.05778185e+03  1.10661847e+03  1.33080059e+03  1.49907766e+03\n",
      "  2.12451779e+04]\n",
      "\n",
      "Estimated Bin Number using Auto Rule: 212\n"
     ]
    }
   ],
   "source": [
    "#read in second dataset\n",
    "# Specify the path to your CSV file\n",
    "df2 = pd.read_csv('844-218v1 CD4+CD127 counts.csv')\n",
    "\n",
    "df2 = pd.DataFrame(df2)\n",
    "#print(df2)\n",
    "\n",
    "# Create a new DataFrame with repeated values based on counts\n",
    "result_array2 = np.repeat(df2['value'], df2['count'])\n",
    "result_df2 = pd.DataFrame({'value': np.repeat(df2['value'], df2['count'])})\n",
    "\n",
    "# Convert the result to a NumPy array if needed\n",
    "result_array2 = result_df2['value'].to_numpy()\n",
    "\n",
    "print(result_array2)\n",
    "\n",
    "#estimate appropriate bin sizes based on data\n",
    "#auto: Maximum of the ‘sturges’ and ‘fd’ estimators. Provides good all around performance\n",
    "bin_size1 = np.histogram_bin_edges(result_array2, bins='auto')\n",
    "print(\"\\nEstimated Bin Number using Auto Rule:\", len(bin_size1) -1 )"
   ]
  },
  {
   "cell_type": "code",
   "execution_count": 3,
   "id": "7d39a696",
   "metadata": {},
   "outputs": [
    {
     "data": {
      "image/png": "[encoded data removed]",
      "text/plain": [
       "<Figure size 640x480 with 1 Axes>"
      ]
     },
     "metadata": {},
     "output_type": "display_data"
    }
   ],
   "source": [
    "#plot data, exclude x-values >5500\n",
    "#alpha value in plt.hist line indicates how bold the plotted bars are\n",
    "#alpha = 1, indicates no transparency\n",
    "plt.hist(result_array, bins=23, edgecolor='black', label='220v1', alpha=0.9)\n",
    "plt.hist(result_array2, bins=212, edgecolor='black', label='218v1', alpha=0.5)\n",
    "plt.xlim(-200, 5500)\n",
    "plt.legend()\n",
    "plt.show()"
   ]
  },
  {
   "cell_type": "code",
   "execution_count": 4,
   "id": "972976e8",
   "metadata": {},
   "outputs": [
    {
     "name": "stdout",
     "output_type": "stream",
     "text": [
      "Statistic: 0.7595208287239075, p-value: 1.0008990425055338e-21\n",
      "Data does not look normally distributed (reject H0)\n",
      "Skewness: 1.8679884105266957, p-value: 6.303886576140849e-23\n",
      "Data is significantly skewed (reject H0)\n"
     ]
    }
   ],
   "source": [
    "#test the distribution of dataset1\n",
    "#does it follow a normal distribution?\n",
    "#Shapiro-Wilk Test\n",
    "\n",
    "# Assuming 'data' is your DataFrame or array of values\n",
    "stat, p_value = shapiro(result_array)\n",
    "\n",
    "print(f'Statistic: {stat}, p-value: {p_value}')\n",
    "\n",
    "# Interpret the result\n",
    "alpha = 0.05\n",
    "if p_value > alpha:\n",
    "    print(\"Data looks normally distributed (fail to reject H0)\")\n",
    "else:\n",
    "    print(\"Data does not look normally distributed (reject H0)\")\n",
    "\n",
    "#Statistical Skewness Test\n",
    "\n",
    "# Calculate skewness\n",
    "skewness = skew(result_array)\n",
    "\n",
    "# Perform skewness test\n",
    "stat, p_value = skewtest(result_array)\n",
    "\n",
    "print(f'Skewness: {skewness}, p-value: {p_value}')\n",
    "\n",
    "# Interpret the result\n",
    "alpha = 0.05\n",
    "if p_value > alpha:\n",
    "    print(\"Data is not significantly skewed (fail to reject H0)\")\n",
    "else:\n",
    "    print(\"Data is significantly skewed (reject H0)\")"
   ]
  },
  {
   "cell_type": "code",
   "execution_count": 5,
   "id": "abe30f7a",
   "metadata": {},
   "outputs": [
    {
     "name": "stdout",
     "output_type": "stream",
     "text": [
      "Statistic: 0.13443821668624878, p-value: 2.6798535864145793e-36\n",
      "Data does not look normally distributed (reject H0)\n",
      "Skewness: 16.969628773900965, p-value: 1.9213386562952196e-124\n",
      "Data is significantly skewed (reject H0)\n"
     ]
    }
   ],
   "source": [
    "#test the distribution of dataset2\n",
    "#does it follow a normal distribution?\n",
    "#Shapiro-Wilk Test\n",
    "\n",
    "# Assuming 'data' is your DataFrame or array of values\n",
    "stat, p_value = shapiro(result_array2)\n",
    "\n",
    "print(f'Statistic: {stat}, p-value: {p_value}')\n",
    "\n",
    "# Interpret the result\n",
    "alpha = 0.05\n",
    "if p_value > alpha:\n",
    "    print(\"Data looks normally distributed (fail to reject H0)\")\n",
    "else:\n",
    "    print(\"Data does not look normally distributed (reject H0)\")\n",
    "\n",
    "#Statistical Skewness Test\n",
    "\n",
    "# Calculate skewness\n",
    "skewness = skew(result_array2)\n",
    "\n",
    "# Perform skewness test\n",
    "stat, p_value = skewtest(result_array2)\n",
    "\n",
    "print(f'Skewness: {skewness}, p-value: {p_value}')\n",
    "\n",
    "# Interpret the result\n",
    "alpha = 0.05\n",
    "if p_value > alpha:\n",
    "    print(\"Data is not significantly skewed (fail to reject H0)\")\n",
    "else:\n",
    "    print(\"Data is significantly skewed (reject H0)\")"
   ]
  },
  {
   "cell_type": "code",
   "execution_count": 6,
   "id": "1227f677",
   "metadata": {},
   "outputs": [
    {
     "name": "stdout",
     "output_type": "stream",
     "text": [
      "\n",
      "Estimated Bin Number using Auto Rule: 15\n",
      "\n",
      "Estimated Bin Number using Auto Rule: 23\n"
     ]
    }
   ],
   "source": [
    "#Try log transforming the data to see if we get a normal distribution\n",
    "#create a constant to add to each value, so there are no negatives\n",
    "constant = 200\n",
    "# Apply log transformation\n",
    "log_result_array = np.log(result_array + constant)\n",
    "log_result_array2 = np.log(result_array2 + constant)\n",
    "#estimate appropriate bin sizes based on data\n",
    "#auto: Maximum of the ‘sturges’ and ‘fd’ estimators. Provides good all around performance\n",
    "bin_size1 = np.histogram_bin_edges(log_result_array, bins='auto')\n",
    "print(\"\\nEstimated Bin Number using Auto Rule:\", len(bin_size1) -1 )\n",
    "bin_size2 = np.histogram_bin_edges(log_result_array2, bins='auto')\n",
    "print(\"\\nEstimated Bin Number using Auto Rule:\", len(bin_size2) -1 )\n"
   ]
  },
  {
   "cell_type": "code",
   "execution_count": 11,
   "id": "34ee250d",
   "metadata": {},
   "outputs": [
    {
     "data": {
      "image/png": "[encoded data removed]",
      "text/plain": [
       "<Figure size 640x480 with 1 Axes>"
      ]
     },
     "metadata": {},
     "output_type": "display_data"
    }
   ],
   "source": [
    "# Plot the log-transformed values\n",
    "plt.hist(log_result_array, bins=15, edgecolor='black', label='220v1', alpha=0.9)\n",
    "plt.hist(log_result_array2, bins=23, edgecolor='black', label='218v1', alpha=0.5)\n",
    "\n",
    "plt.xlim(np.log(1), np.log(100000))  # Adjust the xlim to match the log-transformed scale\n",
    "plt.legend()\n",
    "plt.show()"
   ]
  },
  {
   "cell_type": "code",
   "execution_count": 8,
   "id": "14b7e9e3",
   "metadata": {},
   "outputs": [
    {
     "name": "stdout",
     "output_type": "stream",
     "text": [
      "Statistic: 0.9554018378257751, p-value: 1.6009693126761704e-08\n",
      "Data does not look normally distributed (reject H0)\n",
      "Skewness: 0.5192484356440074, p-value: 0.00018651966674527643\n",
      "Data is significantly skewed (reject H0)\n"
     ]
    }
   ],
   "source": [
    "#test the distribution of log-transformed dataset1\n",
    "#does it follow a normal distribution?\n",
    "#Shapiro-Wilk Test\n",
    "\n",
    "# Assuming 'data' is your DataFrame or array of values\n",
    "stat, p_value = shapiro(log_result_array)\n",
    "\n",
    "print(f'Statistic: {stat}, p-value: {p_value}')\n",
    "\n",
    "# Interpret the result\n",
    "alpha = 0.05\n",
    "if p_value > alpha:\n",
    "    print(\"Data looks normally distributed (fail to reject H0)\")\n",
    "else:\n",
    "    print(\"Data does not look normally distributed (reject H0)\")\n",
    "\n",
    "#Statistical Skewness Test\n",
    "\n",
    "# Calculate skewness\n",
    "skewness = skew(log_result_array)\n",
    "\n",
    "# Perform skewness test\n",
    "stat, p_value = skewtest(log_result_array)\n",
    "\n",
    "print(f'Skewness: {skewness}, p-value: {p_value}')\n",
    "\n",
    "# Interpret the result\n",
    "alpha = 0.05\n",
    "if p_value > alpha:\n",
    "    print(\"Data is not significantly skewed (fail to reject H0)\")\n",
    "else:\n",
    "    print(\"Data is significantly skewed (reject H0)\")"
   ]
  },
  {
   "cell_type": "code",
   "execution_count": 9,
   "id": "46f9f553",
   "metadata": {},
   "outputs": [
    {
     "name": "stdout",
     "output_type": "stream",
     "text": [
      "Statistic: 0.9209823608398438, p-value: 3.006017743750755e-12\n",
      "Data does not look normally distributed (reject H0)\n",
      "Skewness: 1.1926702876781021, p-value: 1.8825444679609265e-13\n",
      "Data is significantly skewed (reject H0)\n"
     ]
    }
   ],
   "source": [
    "#test the distribution of dataset2\n",
    "#does it follow a normal distribution?\n",
    "#Shapiro-Wilk Test\n",
    "\n",
    "# Assuming 'data' is your DataFrame or array of values\n",
    "stat, p_value = shapiro(log_result_array2)\n",
    "\n",
    "print(f'Statistic: {stat}, p-value: {p_value}')\n",
    "\n",
    "# Interpret the result\n",
    "alpha = 0.05\n",
    "if p_value > alpha:\n",
    "    print(\"Data looks normally distributed (fail to reject H0)\")\n",
    "else:\n",
    "    print(\"Data does not look normally distributed (reject H0)\")\n",
    "\n",
    "#Statistical Skewness Test\n",
    "\n",
    "# Calculate skewness\n",
    "skewness = skew(log_result_array2)\n",
    "\n",
    "# Perform skewness test\n",
    "stat, p_value = skewtest(log_result_array2)\n",
    "\n",
    "print(f'Skewness: {skewness}, p-value: {p_value}')\n",
    "\n",
    "# Interpret the result\n",
    "alpha = 0.05\n",
    "if p_value > alpha:\n",
    "    print(\"Data is not significantly skewed (fail to reject H0)\")\n",
    "else:\n",
    "    print(\"Data is significantly skewed (reject H0)\")"
   ]
  },
  {
   "cell_type": "code",
   "execution_count": 10,
   "id": "b3151b56",
   "metadata": {},
   "outputs": [
    {
     "name": "stdout",
     "output_type": "stream",
     "text": [
      "Mann-Whitney U statistic: 69779.0\n",
      "P-value: 7.755736049046902e-09\n",
      "Reject the null hypothesis. There is a significant difference between the two groups.\n"
     ]
    }
   ],
   "source": [
    "#Since the data are skewed, need to use a distribution-free method\n",
    "#Mann-Whitney Test (similar to a Wilcoxon rank sum test) Two (unpaired) samples\n",
    "from scipy.stats import mannwhitneyu\n",
    "\n",
    "# Assuming result_array and result_array2 are your data arrays\n",
    "\n",
    "# Perform Mann-Whitney U test\n",
    "statistic, p_value = mannwhitneyu(result_array, result_array2)\n",
    "\n",
    "# Output the test statistic and p-value\n",
    "print(\"Mann-Whitney U statistic:\", statistic)\n",
    "print(\"P-value:\", p_value)\n",
    "\n",
    "# Interpret the result\n",
    "alpha = 0.05\n",
    "if p_value < alpha:\n",
    "    print(\"Reject the null hypothesis. There is a significant difference between the two groups.\")\n",
    "else:\n",
    "    print(\"Fail to reject the null hypothesis. There is no significant difference between the two groups.\")\n"
   ]
  },
  {
   "cell_type": "code",
   "execution_count": null,
   "id": "d48dafe5",
   "metadata": {},
   "outputs": [],
   "source": []
  }
 ],
 "metadata": {
  "kernelspec": {
   "display_name": "Python 3 (ipykernel)",
   "language": "python",
   "name": "python3"
  },
  "language_info": {
   "codemirror_mode": {
    "name": "ipython",
    "version": 3
   },
   "file_extension": ".py",
   "mimetype": "text/x-python",
   "name": "python",
   "nbconvert_exporter": "python",
   "pygments_lexer": "ipython3",
   "version": "3.10.13"
  }
 },
 "nbformat": 4,
 "nbformat_minor": 5
}
