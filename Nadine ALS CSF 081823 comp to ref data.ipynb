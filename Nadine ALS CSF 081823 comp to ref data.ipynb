{
 "cells": [
  {
   "cell_type": "code",
   "execution_count": 12,
   "id": "460e8a88",
   "metadata": {},
   "outputs": [
    {
     "name": "stdout",
     "output_type": "stream",
     "text": [
      "    Cell type Markers   Mean      SD\n",
      "0      T cell     CD3  0.990  0.4200\n",
      "1  CD4 T cell     CD4  0.755  0.3375\n",
      "2  CD8 T cell     CD8  0.220  0.0900\n",
      "3      B cell    CD19  0.015  0.0075\n"
     ]
    }
   ],
   "source": [
    "#Try comparing the collected data to a reference dataset\n",
    "#https://onlinelibrary.wiley.com/doi/epdf/10.1002/cyto.b.20542\n",
    "\n",
    "#the reference dataset only provides absolute number and 5th-95th percentile values (x10^6/L)\n",
    "#can get a ROUGH estimate mean and SD\n",
    "\n",
    "#1. Reasonable approxiate to take the median as the mean\n",
    "#Mean ≈ Median\n",
    "#2. Range between 5th and 95th perceentile covers ~2SD, can assume the SD is half the range divided by 2 (so /4)\n",
    "#Standard Deviation ≈ (95th percentile - 5th percentile) / 4\n",
    "\n",
    "import pandas as pd\n",
    "from scipy import stats\n",
    "\n",
    "#read in reference data table\n",
    "df_ref = pd.read_csv('CSFrefstudy_counts.csv')\n",
    "\n",
    "# Convert the 'Absolute' column to 'Mean'\n",
    "df_ref['Mean'] = (df_ref['Median 5th'] + df_ref['Median 95th']) / 2\n",
    "\n",
    "# Create a new calculated 'SD' column using the Median 5th and Median 95th percentile columns\n",
    "df_ref['SD'] = (df_ref['Median 95th'] - df_ref['Median 5th']) / 4\n",
    "\n",
    "# Drop the original Absolute and Median columns\n",
    "df_ref.drop(columns=['Absolute', 'Median 5th', 'Median 95th'], inplace=True)\n",
    "\n",
    "# Display the updated DataFrame\n",
    "print(df_ref)\n"
   ]
  },
  {
   "cell_type": "code",
   "execution_count": 13,
   "id": "ddc3af4b",
   "metadata": {},
   "outputs": [
    {
     "data": {
      "text/html": [
       "<div>\n",
       "<style scoped>\n",
       "    .dataframe tbody tr th:only-of-type {\n",
       "        vertical-align: middle;\n",
       "    }\n",
       "\n",
       "    .dataframe tbody tr th {\n",
       "        vertical-align: top;\n",
       "    }\n",
       "\n",
       "    .dataframe thead th {\n",
       "        text-align: right;\n",
       "    }\n",
       "</style>\n",
       "<table border=\"1\" class=\"dataframe\">\n",
       "  <thead>\n",
       "    <tr style=\"text-align: right;\">\n",
       "      <th></th>\n",
       "      <th>Cell type</th>\n",
       "      <th>Markers</th>\n",
       "      <th>Mean</th>\n",
       "      <th>SD</th>\n",
       "    </tr>\n",
       "  </thead>\n",
       "  <tbody>\n",
       "    <tr>\n",
       "      <th>0</th>\n",
       "      <td>T cell</td>\n",
       "      <td>CD3</td>\n",
       "      <td>4559</td>\n",
       "      <td>1959</td>\n",
       "    </tr>\n",
       "    <tr>\n",
       "      <th>1</th>\n",
       "      <td>CD4 T cell</td>\n",
       "      <td>CD4</td>\n",
       "      <td>1963</td>\n",
       "      <td>847</td>\n",
       "    </tr>\n",
       "    <tr>\n",
       "      <th>2</th>\n",
       "      <td>CD8 T cell</td>\n",
       "      <td>CD8</td>\n",
       "      <td>16184</td>\n",
       "      <td>7482</td>\n",
       "    </tr>\n",
       "    <tr>\n",
       "      <th>3</th>\n",
       "      <td>B cell</td>\n",
       "      <td>CD19</td>\n",
       "      <td>4781</td>\n",
       "      <td>1683</td>\n",
       "    </tr>\n",
       "  </tbody>\n",
       "</table>\n",
       "</div>"
      ],
      "text/plain": [
       "    Cell type Markers   Mean    SD\n",
       "0      T cell     CD3   4559  1959\n",
       "1  CD4 T cell     CD4   1963   847\n",
       "2  CD8 T cell     CD8  16184  7482\n",
       "3      B cell    CD19   4781  1683"
      ]
     },
     "execution_count": 13,
     "metadata": {},
     "output_type": "execute_result"
    }
   ],
   "source": [
    "#read in actual dataset for first sample\n",
    "df_actual = pd.read_csv('CSF 081723 844-220v1_counts.csv')\n",
    "df_actual"
   ]
  },
  {
   "cell_type": "code",
   "execution_count": 14,
   "id": "919bdaa2",
   "metadata": {},
   "outputs": [
    {
     "name": "stdout",
     "output_type": "stream",
     "text": [
      "    Cell type Markers   Mean      SD\n",
      "0      T cell     CD3  0.990  0.4200\n",
      "1  CD4 T cell     CD4  0.755  0.3375\n",
      "2  CD8 T cell     CD8  0.220  0.0900\n",
      "3      B cell    CD19  0.015  0.0075\n"
     ]
    }
   ],
   "source": [
    "#To account for machine setting differences\n",
    "#1. Calculate the difference in means: Subtract the mean of the collected dataset from the mean of the reference dataset.\n",
    "# Mean difference = Mean (collected dataset) - Mean (reference dataset)\n",
    "\n",
    "#2. Calculate the ratio of standard deviations: Divide the standard deviation of the collected dataset by the standard deviation of the reference dataset.\n",
    "# Standard deviation ratio = Standard deviation (collected dataset) / Standard deviation (reference dataset)\n",
    "\n",
    "#3. Apply the adjustments to your collected data:\n",
    "# Subtract the mean difference from each data point in your collected dataset.\n",
    "# Divide each adjusted data point by the standard deviation ratio.\n",
    "\n",
    "# Iterate over each row in the reference DataFrame\n",
    "for index, row_ref in df_ref.iterrows():\n",
    "    # Find the corresponding row in the actual DataFrame based on 'Markers'\n",
    "    row_actual = df_actual.loc[df_actual['Markers'] == row_ref['Markers']]\n",
    "    \n",
    "    # If the marker exists in the actual DataFrame\n",
    "    if not row_actual.empty:\n",
    "        # Calculate mean difference\n",
    "        mean_diff = row_actual['Mean'].values[0] - row_ref['Mean']\n",
    "        \n",
    "        # Calculate standard deviation ratio\n",
    "        sd_ratio = row_actual['SD'].values[0] / row_ref['SD']\n",
    "        \n",
    "        # Apply adjustments to actual dataset\n",
    "        df_actual.loc[df_actual['Markers'] == row_ref['Markers'], 'Mean'] -= mean_diff\n",
    "        df_actual.loc[df_actual['Markers'] == row_ref['Markers'], 'SD'] /= sd_ratio\n",
    "\n",
    "# Display the adjusted actual dataset\n",
    "print(df_actual)"
   ]
  },
  {
   "cell_type": "code",
   "execution_count": 15,
   "id": "26b3a53f",
   "metadata": {},
   "outputs": [
    {
     "name": "stdout",
     "output_type": "stream",
     "text": [
      "Marker: CD3\n",
      "T-statistic: nan\n",
      "P-value: nan\n",
      "Mean (Actual): 0.9899999999997817, Mean (Reference): 0.99\n",
      "SD (Actual): 0.42000000000000004, SD (Reference): 0.42000000000000004\n",
      "\n",
      "Marker: CD4\n",
      "T-statistic: nan\n",
      "P-value: nan\n",
      "Mean (Actual): 0.7550000000001091, Mean (Reference): 0.755\n",
      "SD (Actual): 0.33749999999999997, SD (Reference): 0.33749999999999997\n",
      "\n",
      "Marker: CD8\n",
      "T-statistic: nan\n",
      "P-value: nan\n",
      "Mean (Actual): 0.21999999999934516, Mean (Reference): 0.22\n",
      "SD (Actual): 0.09000000000000001, SD (Reference): 0.09000000000000001\n",
      "\n",
      "Marker: CD19\n",
      "T-statistic: nan\n",
      "P-value: nan\n",
      "Mean (Actual): 0.015000000000327418, Mean (Reference): 0.015\n",
      "SD (Actual): 0.0075, SD (Reference): 0.0075\n",
      "\n"
     ]
    },
    {
     "name": "stderr",
     "output_type": "stream",
     "text": [
      "C:\\Users\\cfraser002\\AppData\\Local\\anaconda3\\envs\\dev\\lib\\site-packages\\scipy\\stats\\_stats_py.py:1103: RuntimeWarning: divide by zero encountered in divide\n",
      "  var *= np.divide(n, n-ddof)  # to avoid error on division by zero\n",
      "C:\\Users\\cfraser002\\AppData\\Local\\anaconda3\\envs\\dev\\lib\\site-packages\\scipy\\stats\\_stats_py.py:1103: RuntimeWarning: invalid value encountered in scalar multiply\n",
      "  var *= np.divide(n, n-ddof)  # to avoid error on division by zero\n"
     ]
    }
   ],
   "source": [
    "# Perform single-sample t-tests\n",
    "for index, row in df_actual.iterrows():\n",
    "    # Extract data for the current marker\n",
    "    marker = row['Markers']\n",
    "    mean_actual = row['Mean']\n",
    "    sd_actual = row['SD']\n",
    "    mean_ref = df_ref.loc[df_ref['Markers'] == marker, 'Mean'].values[0]\n",
    "    sd_ref = df_ref.loc[df_ref['Markers'] == marker, 'SD'].values[0]\n",
    "    \n",
    "    # Perform t-test\n",
    "    t_stat, p_value = stats.ttest_1samp([mean_actual], mean_ref)\n",
    "    \n",
    "    # Print results\n",
    "    print(f\"Marker: {marker}\")\n",
    "    print(f\"T-statistic: {t_stat}\")\n",
    "    print(f\"P-value: {p_value}\")\n",
    "    print(f\"Mean (Actual): {mean_actual}, Mean (Reference): {mean_ref}\")\n",
    "    print(f\"SD (Actual): {sd_actual}, SD (Reference): {sd_ref}\")\n",
    "    print()"
   ]
  },
  {
   "cell_type": "code",
   "execution_count": null,
   "id": "7a98f336",
   "metadata": {},
   "outputs": [],
   "source": []
  }
 ],
 "metadata": {
  "kernelspec": {
   "display_name": "Python 3 (ipykernel)",
   "language": "python",
   "name": "python3"
  },
  "language_info": {
   "codemirror_mode": {
    "name": "ipython",
    "version": 3
   },
   "file_extension": ".py",
   "mimetype": "text/x-python",
   "name": "python",
   "nbconvert_exporter": "python",
   "pygments_lexer": "ipython3",
   "version": "3.10.13"
  }
 },
 "nbformat": 4,
 "nbformat_minor": 5
}
