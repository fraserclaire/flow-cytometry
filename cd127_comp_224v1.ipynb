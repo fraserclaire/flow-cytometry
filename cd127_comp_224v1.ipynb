{
 "cells": [
  {
   "cell_type": "code",
   "execution_count": 1,
   "id": "15165c12",
   "metadata": {},
   "outputs": [],
   "source": [
    "#Test flow cytometry data output counts-poisson model fit\n",
    "import pandas as pd\n",
    "import numpy as np\n",
    "import matplotlib.pyplot as plt\n",
    "from scipy.stats import shapiro, anderson, poisson, chisquare, skew, skewtest\n",
    "import statsmodels.api as sm\n",
    "\n",
    "# Specify the path to your CSV file\n",
    "df = pd.read_csv('844-224v1_081723 CD4+CD127 counts.csv')\n",
    "\n",
    "df = pd.DataFrame(df)\n",
    "#print(df)"
   ]
  },
  {
   "cell_type": "code",
   "execution_count": 2,
   "id": "33df4069",
   "metadata": {},
   "outputs": [
    {
     "name": "stdout",
     "output_type": "stream",
     "text": [
      "[-6.37348953e+01 -2.54780736e+00  5.09762992e+01  7.26716592e+01\n",
      "  1.31571255e+02  2.16935283e+02  2.32611444e+02  2.45719852e+02\n",
      "  2.58872038e+02  2.68106115e+02  2.69427189e+02  2.70748752e+02\n",
      "  2.81339192e+02  2.83991892e+02  2.90632806e+02  3.06626343e+02\n",
      "  3.13314318e+02  3.22702233e+02  3.25389929e+02  3.25389929e+02\n",
      "  3.29426096e+02  3.45627864e+02  3.57841586e+02  3.74214309e+02\n",
      "  3.87938694e+02  3.89315300e+02  3.94829474e+02  4.05895761e+02\n",
      "  4.19802113e+02  4.30988259e+02  4.36602336e+02  4.36602336e+02\n",
      "  4.53531482e+02  4.54948269e+02  4.66316917e+02  4.66316917e+02\n",
      "  4.66316917e+02  5.09522731e+02  5.09522731e+02  5.10979339e+02\n",
      "  5.30017211e+02  5.41829617e+02  5.46278862e+02  5.76224291e+02\n",
      "  6.02085368e+02  6.19030266e+02  6.31462574e+02  6.33023202e+02\n",
      "  7.11411752e+02  7.22937200e+02  8.65029603e+02  8.74159515e+02\n",
      "  8.94453384e+02  9.20708461e+02  1.03706722e+03  1.12182474e+03\n",
      "  1.37178299e+03  1.54203254e+03  1.84773678e+03  1.96680559e+03\n",
      "  2.02745489e+03  2.03131157e+03  2.23466066e+03  2.28670514e+03\n",
      "  2.34459644e+03  2.77660012e+03  2.78205727e+03  2.84849123e+03\n",
      "  2.87103051e+03  4.30252083e+03  4.95042148e+03  6.13010858e+03]\n",
      "\n",
      "Estimated Bin Number using Auto Rule: 21\n"
     ]
    }
   ],
   "source": [
    "# Create a new DataFrame with repeated values based on counts\n",
    "result_array = np.repeat(df['value'], df['count'])\n",
    "result_df = pd.DataFrame({'value': np.repeat(df['value'], df['count'])})\n",
    "\n",
    "# Convert the result to a NumPy array if needed\n",
    "result_array = result_df['value'].to_numpy()\n",
    "\n",
    "print(result_array)\n",
    "\n",
    "#estimate appropriate bin sizes based on data\n",
    "#auto: Maximum of the ‘sturges’ and ‘fd’ estimators. Provides good all around performance\n",
    "bin_size1 = np.histogram_bin_edges(result_array, bins='auto')\n",
    "print(\"\\nEstimated Bin Number using Auto Rule:\", len(bin_size1) -1 )"
   ]
  },
  {
   "cell_type": "code",
   "execution_count": 3,
   "id": "de9b58f4",
   "metadata": {},
   "outputs": [
    {
     "name": "stdout",
     "output_type": "stream",
     "text": [
      "[ -21.65784512   62.45862598   63.73489531  154.7305845   156.0195291\n",
      "  244.4070866   262.8266481   286.6466749   295.9551598   310.6373877\n",
      "  320.0169734   411.4483296   417.0141559   426.7869555   489.2437293\n",
      "  499.3570191   508.0672227   518.2790145   573.206961    600.5533096\n",
      "  640.8486644   640.8486644   667.7409673   696.7188144   726.246183\n",
      "  744.5754757   825.5336083   935.9330577  1020.713058   1068.255007\n",
      " 1100.15143    1113.11536    1198.103251   1237.831941   1278.689468\n",
      " 1315.721214   1328.276579   1403.278791   1411.257297   1427.342195\n",
      " 1443.599947   1446.326576   1462.789587   1485.019323   1513.264806\n",
      " 1544.938581   1553.689045   1565.432319   1622.426876   1625.483354\n",
      " 1647.041505   1684.673118   1719.93778    1802.939555   1879.433703\n",
      " 1989.318014   2012.106745   2023.60609    2039.048657   2098.100766\n",
      " 2247.548726   2371.859431   2939.860848   3034.542214   3138.92447\n",
      " 3562.659965   3695.328811  ]\n",
      "\n",
      "Estimated Bin Number using Auto Rule: 8\n"
     ]
    }
   ],
   "source": [
    "#read in second dataset\n",
    "# Specify the path to your CSV file\n",
    "df2 = pd.read_csv('844-224v1_100323 CD4+CD127 counts.csv')\n",
    "\n",
    "df2 = pd.DataFrame(df2)\n",
    "#print(df2)\n",
    "\n",
    "# Create a new DataFrame with repeated values based on counts\n",
    "result_array2 = np.repeat(df2['value'], df2['count'])\n",
    "result_df2 = pd.DataFrame({'value': np.repeat(df2['value'], df2['count'])})\n",
    "\n",
    "# Convert the result to a NumPy array if needed\n",
    "result_array2 = result_df2['value'].to_numpy()\n",
    "\n",
    "print(result_array2)\n",
    "\n",
    "#estimate appropriate bin sizes based on data\n",
    "#auto: Maximum of the ‘sturges’ and ‘fd’ estimators. Provides good all around performance\n",
    "bin_size1 = np.histogram_bin_edges(result_array2, bins='auto')\n",
    "print(\"\\nEstimated Bin Number using Auto Rule:\", len(bin_size1) -1 )"
   ]
  },
  {
   "cell_type": "code",
   "execution_count": 4,
   "id": "b66c00c9",
   "metadata": {},
   "outputs": [
    {
     "data": {
      "image/png": "[encoded data removed]",
      "text/plain": [
       "<Figure size 640x480 with 1 Axes>"
      ]
     },
     "metadata": {},
     "output_type": "display_data"
    }
   ],
   "source": [
    "#plot data, exclude x-values >5500\n",
    "#alpha value in plt.hist line indicates how bold the plotted bars are\n",
    "#alpha = 1, indicates no transparency\n",
    "plt.hist(result_array, bins=21, edgecolor='black', label='Aug 18', alpha=0.9)\n",
    "plt.hist(result_array2, bins=8, edgecolor='black', label='Oct 3', alpha=0.5)\n",
    "plt.xlim(-200, 5500)\n",
    "plt.legend()\n",
    "plt.show()"
   ]
  },
  {
   "cell_type": "code",
   "execution_count": 5,
   "id": "458fd665",
   "metadata": {},
   "outputs": [
    {
     "name": "stdout",
     "output_type": "stream",
     "text": [
      "Statistic: 0.6828321218490601, p-value: 3.463337602815919e-11\n",
      "Data does not look normally distributed (reject H0)\n"
     ]
    }
   ],
   "source": [
    "#test the distribution of dataset1\n",
    "#does it follow a normal distribution?\n",
    "#Shapiro-Wilk Test\n",
    "\n",
    "# Assuming 'data' is your DataFrame or array of values\n",
    "stat, p_value = shapiro(result_array)\n",
    "\n",
    "print(f'Statistic: {stat}, p-value: {p_value}')\n",
    "\n",
    "# Interpret the result\n",
    "alpha = 0.05\n",
    "if p_value > alpha:\n",
    "    print(\"Data looks normally distributed (fail to reject H0)\")\n",
    "else:\n",
    "    print(\"Data does not look normally distributed (reject H0)\")\n"
   ]
  },
  {
   "cell_type": "code",
   "execution_count": 6,
   "id": "ed98b3a4",
   "metadata": {},
   "outputs": [
    {
     "name": "stdout",
     "output_type": "stream",
     "text": [
      "Skewness: 2.390041219659027, p-value: 4.081638144101624e-09\n",
      "Data is significantly skewed (reject H0)\n"
     ]
    }
   ],
   "source": [
    "#Statistical Skewness Test\n",
    "\n",
    "# Calculate skewness\n",
    "skewness = skew(result_array)\n",
    "\n",
    "# Perform skewness test\n",
    "stat, p_value = skewtest(result_array)\n",
    "\n",
    "print(f'Skewness: {skewness}, p-value: {p_value}')\n",
    "\n",
    "# Interpret the result\n",
    "alpha = 0.05\n",
    "if p_value > alpha:\n",
    "    print(\"Data is not significantly skewed (fail to reject H0)\")\n",
    "else:\n",
    "    print(\"Data is significantly skewed (reject H0)\")\n"
   ]
  },
  {
   "cell_type": "code",
   "execution_count": 7,
   "id": "0702790e",
   "metadata": {},
   "outputs": [
    {
     "name": "stdout",
     "output_type": "stream",
     "text": [
      "Statistic: 0.9347072839736938, p-value: 0.0016390517121180892\n",
      "Data does not look normally distributed (reject H0)\n"
     ]
    }
   ],
   "source": [
    "#test the distribution of dataset2\n",
    "#does it follow a normal distribution?\n",
    "#Shapiro-Wilk Test\n",
    "\n",
    "# Assuming 'data' is your DataFrame or array of values\n",
    "stat, p_value = shapiro(result_array2)\n",
    "\n",
    "print(f'Statistic: {stat}, p-value: {p_value}')\n",
    "\n",
    "# Interpret the result\n",
    "alpha = 0.05\n",
    "if p_value > alpha:\n",
    "    print(\"Data looks normally distributed (fail to reject H0)\")\n",
    "else:\n",
    "    print(\"Data does not look normally distributed (reject H0)\")\n"
   ]
  },
  {
   "cell_type": "code",
   "execution_count": 8,
   "id": "aa381785",
   "metadata": {},
   "outputs": [
    {
     "name": "stdout",
     "output_type": "stream",
     "text": [
      "Skewness: 0.8304624892228856, p-value: 0.006260564287264707\n",
      "Data is significantly skewed (reject H0)\n"
     ]
    }
   ],
   "source": [
    "#Statistical Skewness Test\n",
    "\n",
    "# Calculate skewness\n",
    "skewness = skew(result_array2)\n",
    "\n",
    "# Perform skewness test\n",
    "stat, p_value = skewtest(result_array2)\n",
    "\n",
    "print(f'Skewness: {skewness}, p-value: {p_value}')\n",
    "\n",
    "# Interpret the result\n",
    "alpha = 0.05\n",
    "if p_value > alpha:\n",
    "    print(\"Data is not significantly skewed (fail to reject H0)\")\n",
    "else:\n",
    "    print(\"Data is significantly skewed (reject H0)\")\n"
   ]
  },
  {
   "cell_type": "code",
   "execution_count": 9,
   "id": "3ca60c79",
   "metadata": {},
   "outputs": [
    {
     "name": "stdout",
     "output_type": "stream",
     "text": [
      "Mann-Whitney U statistic: 1697.0\n",
      "P-value: 0.002596861941624176\n",
      "Reject the null hypothesis. There is a significant difference between the two groups.\n"
     ]
    }
   ],
   "source": [
    "#Since the data are skewed, need to use a distribution-free method\n",
    "#Mann-Whitney Test (similar to a Wilcoxon rank sum test) Two (unpaired) samples\n",
    "from scipy.stats import mannwhitneyu\n",
    "\n",
    "# Assuming result_array and result_array2 are your data arrays\n",
    "\n",
    "# Perform Mann-Whitney U test\n",
    "statistic, p_value = mannwhitneyu(result_array, result_array2)\n",
    "\n",
    "# Output the test statistic and p-value\n",
    "print(\"Mann-Whitney U statistic:\", statistic)\n",
    "print(\"P-value:\", p_value)\n",
    "\n",
    "# Interpret the result\n",
    "alpha = 0.05\n",
    "if p_value < alpha:\n",
    "    print(\"Reject the null hypothesis. There is a significant difference between the two groups.\")\n",
    "else:\n",
    "    print(\"Fail to reject the null hypothesis. There is no significant difference between the two groups.\")\n"
   ]
  },
  {
   "cell_type": "code",
   "execution_count": 11,
   "id": "a706354a",
   "metadata": {},
   "outputs": [
    {
     "name": "stdout",
     "output_type": "stream",
     "text": [
      "[ 161.1779274  179.2672673  181.8561581  184.4462833  213.0249301\n",
      "  237.8497307  239.1603485  264.1457963  270.7487522  285.3190217\n",
      "  290.6328063  303.9551771  305.2904755  315.9935966  342.921086\n",
      "  398.9733417  412.8385342  436.6023363  445.0503846  502.2560965\n",
      "  502.2560965  521.2067285  597.4933167  667.7409673  736.2164941\n",
      "  799.2091681  859.5794846  994.5377802 1544.938581  1571.336786 ]\n",
      "\n",
      "Estimated Bin Number using Auto Rule: 8\n"
     ]
    }
   ],
   "source": [
    "#####################\n",
    "#Now compare the CD8 data\n",
    "#####################\n",
    "\n",
    "# Specify the path to your CSV file\n",
    "df3 = pd.read_csv('844-224v1_081723 CD8+CD127 counts.csv')\n",
    "\n",
    "df3 = pd.DataFrame(df3)\n",
    "#print(df3)\n",
    "\n",
    "# Create a new DataFrame with repeated values based on counts\n",
    "result_array3 = np.repeat(df3['value'], df3['count'])\n",
    "result_df3 = pd.DataFrame({'value': np.repeat(df3['value'], df3['count'])})\n",
    "\n",
    "# Convert the result to a NumPy array if needed\n",
    "result_array3 = result_df3['value'].to_numpy()\n",
    "\n",
    "print(result_array3)\n",
    "\n",
    "#estimate appropriate bin sizes based on data\n",
    "#auto: Maximum of the ‘sturges’ and ‘fd’ estimators. Provides good all around performance\n",
    "bin_size1 = np.histogram_bin_edges(result_array3, bins='auto')\n",
    "print(\"\\nEstimated Bin Number using Auto Rule:\", len(bin_size1) -1 )"
   ]
  },
  {
   "cell_type": "code",
   "execution_count": 12,
   "id": "c7f3fe73",
   "metadata": {},
   "outputs": [
    {
     "name": "stdout",
     "output_type": "stream",
     "text": [
      "[ -16.56139649   67.56430345  180.5615596   521.2067285   534.4380464\n",
      "  546.2788619   703.231807    830.8561721   939.7650087  1128.392263\n",
      " 1170.710554   1235.464233   1244.958538   1427.342195  ]\n",
      "\n",
      "Estimated Bin Number using Auto Rule: 5\n"
     ]
    }
   ],
   "source": [
    "#read in second dataset\n",
    "# Specify the path to your CSV file\n",
    "df4 = pd.read_csv('844-224v1_100323 CD8+CD127 counts.csv')\n",
    "\n",
    "df4 = pd.DataFrame(df4)\n",
    "#print(df4)\n",
    "\n",
    "# Create a new DataFrame with repeated values based on counts\n",
    "result_array4 = np.repeat(df4['value'], df4['count'])\n",
    "result_df4 = pd.DataFrame({'value': np.repeat(df4['value'], df4['count'])})\n",
    "\n",
    "# Convert the result to a NumPy array if needed\n",
    "result_array4 = result_df4['value'].to_numpy()\n",
    "\n",
    "print(result_array4)\n",
    "\n",
    "#estimate appropriate bin sizes based on data\n",
    "#auto: Maximum of the ‘sturges’ and ‘fd’ estimators. Provides good all around performance\n",
    "bin_size1 = np.histogram_bin_edges(result_array4, bins='auto')\n",
    "print(\"\\nEstimated Bin Number using Auto Rule:\", len(bin_size1) -1 )"
   ]
  },
  {
   "cell_type": "code",
   "execution_count": 13,
   "id": "2bab160c",
   "metadata": {},
   "outputs": [
    {
     "data": {
      "image/png": "[encoded data removed]",
      "text/plain": [
       "<Figure size 640x480 with 1 Axes>"
      ]
     },
     "metadata": {},
     "output_type": "display_data"
    }
   ],
   "source": [
    "#plot data, exclude x-values >5500\n",
    "#alpha value in plt.hist line indicates how bold the plotted bars are\n",
    "#alpha = 1, indicates no transparency\n",
    "plt.hist(result_array3, bins=8, edgecolor='black', label='Aug 18', alpha=0.9)\n",
    "plt.hist(result_array4, bins=5, edgecolor='black', label='Oct 3', alpha=0.5)\n",
    "plt.xlim(-200, 5500) #adjust based on sample values\n",
    "plt.legend()\n",
    "plt.show()"
   ]
  },
  {
   "cell_type": "code",
   "execution_count": 14,
   "id": "e15c6368",
   "metadata": {},
   "outputs": [
    {
     "name": "stdout",
     "output_type": "stream",
     "text": [
      "Statistic: 0.7781365513801575, p-value: 2.6855768737732433e-05\n",
      "Data does not look normally distributed (reject H0)\n",
      "Skewness: 1.7857585664930842, p-value: 0.00025899293032108074\n",
      "Data is significantly skewed (reject H0)\n"
     ]
    }
   ],
   "source": [
    "#test the distribution of dataset3\n",
    "#does it follow a normal distribution?\n",
    "#Shapiro-Wilk Test\n",
    "\n",
    "# Assuming 'data' is your DataFrame or array of values\n",
    "stat, p_value = shapiro(result_array3)\n",
    "\n",
    "print(f'Statistic: {stat}, p-value: {p_value}')\n",
    "\n",
    "# Interpret the result\n",
    "alpha = 0.05\n",
    "if p_value > alpha:\n",
    "    print(\"Data looks normally distributed (fail to reject H0)\")\n",
    "else:\n",
    "    print(\"Data does not look normally distributed (reject H0)\")\n",
    "\n",
    "#########################\n",
    "#Statistical Skewness Test\n",
    "\n",
    "# Calculate skewness\n",
    "skewness = skew(result_array3)\n",
    "\n",
    "# Perform skewness test\n",
    "stat, p_value = skewtest(result_array3)\n",
    "\n",
    "print(f'Skewness: {skewness}, p-value: {p_value}')\n",
    "\n",
    "# Interpret the result\n",
    "alpha = 0.05\n",
    "if p_value > alpha:\n",
    "    print(\"Data is not significantly skewed (fail to reject H0)\")\n",
    "else:\n",
    "    print(\"Data is significantly skewed (reject H0)\")\n"
   ]
  },
  {
   "cell_type": "code",
   "execution_count": 15,
   "id": "ca9342b8",
   "metadata": {},
   "outputs": [
    {
     "name": "stdout",
     "output_type": "stream",
     "text": [
      "Statistic: 0.942146360874176, p-value: 0.44651731848716736\n",
      "Data looks normally distributed (fail to reject H0)\n",
      "Skewness: -0.2443435212015778, p-value: 0.6288375927145164\n",
      "Data is not significantly skewed (fail to reject H0)\n"
     ]
    }
   ],
   "source": [
    "#test the distribution of dataset3\n",
    "#does it follow a normal distribution?\n",
    "#Shapiro-Wilk Test\n",
    "\n",
    "# Assuming 'data' is your DataFrame or array of values\n",
    "stat, p_value = shapiro(result_array4)\n",
    "\n",
    "print(f'Statistic: {stat}, p-value: {p_value}')\n",
    "\n",
    "# Interpret the result\n",
    "alpha = 0.05\n",
    "if p_value > alpha:\n",
    "    print(\"Data looks normally distributed (fail to reject H0)\")\n",
    "else:\n",
    "    print(\"Data does not look normally distributed (reject H0)\")\n",
    "\n",
    "#########################\n",
    "#Statistical Skewness Test\n",
    "\n",
    "# Calculate skewness\n",
    "skewness = skew(result_array4)\n",
    "\n",
    "# Perform skewness test\n",
    "stat, p_value = skewtest(result_array4)\n",
    "\n",
    "print(f'Skewness: {skewness}, p-value: {p_value}')\n",
    "\n",
    "# Interpret the result\n",
    "alpha = 0.05\n",
    "if p_value > alpha:\n",
    "    print(\"Data is not significantly skewed (fail to reject H0)\")\n",
    "else:\n",
    "    print(\"Data is significantly skewed (reject H0)\")\n"
   ]
  },
  {
   "cell_type": "code",
   "execution_count": 16,
   "id": "294005e8",
   "metadata": {},
   "outputs": [
    {
     "name": "stdout",
     "output_type": "stream",
     "text": [
      "Mann-Whitney U statistic: 135.5\n",
      "P-value: 0.06221559206449605\n",
      "Fail to reject the null hypothesis. There is no significant difference between the two groups.\n"
     ]
    }
   ],
   "source": [
    "#Since the data are skewed, need to use a distribution-free method\n",
    "#Mann-Whitney Test (similar to a Wilcoxon rank sum test) Two (unpaired) samples\n",
    "from scipy.stats import mannwhitneyu\n",
    "\n",
    "# Assuming result_array and result_array2 are your data arrays\n",
    "\n",
    "# Perform Mann-Whitney U test\n",
    "statistic, p_value = mannwhitneyu(result_array3, result_array4)\n",
    "\n",
    "# Output the test statistic and p-value\n",
    "print(\"Mann-Whitney U statistic:\", statistic)\n",
    "print(\"P-value:\", p_value)\n",
    "\n",
    "# Interpret the result\n",
    "alpha = 0.05\n",
    "if p_value < alpha:\n",
    "    print(\"Reject the null hypothesis. There is a significant difference between the two groups.\")\n",
    "else:\n",
    "    print(\"Fail to reject the null hypothesis. There is no significant difference between the two groups.\")\n"
   ]
  },
  {
   "cell_type": "code",
   "execution_count": null,
   "id": "5d8db78f",
   "metadata": {},
   "outputs": [],
   "source": []
  }
 ],
 "metadata": {
  "kernelspec": {
   "display_name": "Python 3 (ipykernel)",
   "language": "python",
   "name": "python3"
  },
  "language_info": {
   "codemirror_mode": {
    "name": "ipython",
    "version": 3
   },
   "file_extension": ".py",
   "mimetype": "text/x-python",
   "name": "python",
   "nbconvert_exporter": "python",
   "pygments_lexer": "ipython3",
   "version": "3.10.13"
  }
 },
 "nbformat": 4,
 "nbformat_minor": 5
}
